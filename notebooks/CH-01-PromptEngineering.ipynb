{
 "cells": [
  {
   "cell_type": "markdown",
   "metadata": {
    "nteract": {
     "transient": {
      "deleting": false
     }
    }
   },
   "source": [
    "# Reto 01 - Prompt Engineering"
   ]
  },
  {
   "cell_type": "markdown",
   "metadata": {
    "nteract": {
     "transient": {
      "deleting": false
     }
    }
   },
   "source": [
    "Consejo rápido: Para ver la Tabla de Contenidos de este Notebook en VS Code, en la pestaña \"Explorer\", expande la sección \"Outline\"."
   ]
  },
  {
   "cell_type": "markdown",
   "metadata": {
    "nteract": {
     "transient": {
      "deleting": false
     }
    }
   },
   "source": [
    "## 1. Experimentación de Parámetros\n",
    "Primero configuraremos el Desafío. Carga la clave API y las bibliotecas de Python relevantes utilizando las celdas a continuación."
   ]
  },
  {
   "cell_type": "markdown",
   "metadata": {
    "nteract": {
     "transient": {
      "deleting": false
     }
    }
   },
   "source": [
    "### 1.1 Preparación\n",
    "#### 1.1.1 Configuración del Entorno\n"
   ]
  },
  {
   "cell_type": "markdown",
   "metadata": {
    "nteract": {
     "transient": {
      "deleting": false
     }
    }
   },
   "source": [
    "#### Crea o actualiza el archivo de entorno llamado \".env\"\n",
    "Hemos incluido un archivo de entorno de ejemplo para tu referencia. Puedes encontrar el archivo `.env.sample` en la raiz de este repositorio o en la carpeta `Student/Resources` dentro de la documentación del desafío. Siéntete libre de hacer las modificaciones necesarias y renombra el archivo como `.env`.\n",
    "\n",
    "**NOTA:** Asegúrate de mantener el nombre de cada modelo igual al nombre de implementación del modelo que configuraste en Azure OpenAI.\n",
    "\n",
    "**NOTA:** Ten en cuenta que algunos modelos de AOAI podrían estar obsoletos. Deberías crear los que estén disponibles según sea necesario. Para completar este primer desafío, gpt-35-turbo es el único modelo que necesitas.\n",
    "\n",
    "Para obtener información sobre los modelos actuales, consulta: [Modelos del Servicio Azure OpenAI Service](https://learn.microsoft.com/es-mx/azure/ai-services/openai/concepts/models)"
   ]
  },
  {
   "cell_type": "markdown",
   "metadata": {
    "nteract": {
     "transient": {
      "deleting": false
     }
    }
   },
   "source": [
    "####  Configuración del Entorno de Azure OpenAI"
   ]
  },
  {
   "cell_type": "code",
   "execution_count": 1,
   "metadata": {
    "gather": {
     "logged": 1686932813309
    },
    "jupyter": {
     "outputs_hidden": false,
     "source_hidden": false
    },
    "nteract": {
     "transient": {
      "deleting": false
     }
    }
   },
   "outputs": [
    {
     "data": {
      "text/plain": [
       "True"
      ]
     },
     "execution_count": 1,
     "metadata": {},
     "output_type": "execute_result"
    }
   ],
   "source": [
    "import openai\n",
    "import os\n",
    "import json\n",
    "from dotenv import load_dotenv, find_dotenv\n",
    "load_dotenv(find_dotenv())"
   ]
  },
  {
   "cell_type": "code",
   "execution_count": 2,
   "metadata": {
    "gather": {
     "logged": 1686933122347
    },
    "jupyter": {
     "outputs_hidden": false,
     "source_hidden": false
    },
    "nteract": {
     "transient": {
      "deleting": false
     }
    }
   },
   "outputs": [],
   "source": [
    "API_KEY = os.getenv(\"OPENAI_API_KEY\")\n",
    "assert API_KEY, \"ERROR: Azure OpenAI Key is missing\"\n",
    "openai.api_key = API_KEY\n",
    "\n",
    "RESOURCE_ENDPOINT = os.getenv(\"OPENAI_API_BASE\",\"\").strip()\n",
    "assert RESOURCE_ENDPOINT, \"ERROR: Azure OpenAI Endpoint is missing\"\n",
    "assert \"openai.azure.com\" in RESOURCE_ENDPOINT.lower(), \"ERROR: Azure OpenAI Endpoint should be in the form: \\n\\n\\t<your unique endpoint identifier>.openai.azure.com\"\n",
    "\n",
    "openai.api_base = RESOURCE_ENDPOINT\n",
    "openai.api_type = os.getenv(\"OPENAI_API_TYPE\")\n",
    "openai.api_version = os.getenv(\"OPENAI_API_VERSION\")\n",
    "\n",
    "chat_model=os.getenv(\"CHAT_MODEL_NAME\")\n"
   ]
  },
  {
   "cell_type": "markdown",
   "metadata": {
    "nteract": {
     "transient": {
      "deleting": false
     }
    }
   },
   "source": [
    "#### 1.1.2 Explicación de Parámetros\n",
    "Especificamos los hiperparámetros para los modelos de Azure OpenAI dentro de las funciones de ayuda. Los usuarios pueden ajustar los parámetros según sus necesidades.\n",
    "\n",
    "\n",
    "###### **Temperatura**\n",
    "La temperatura varía de 0 a 2. Aquí tienes un desglose rápido de cómo funciona:\n",
    "- Temperatura baja (0 a 0.3): Salidas más enfocadas, coherentes y conservadoras.\n",
    "- Temperatura media (0.3 a 0.7): Creatividad y coherencia equilibradas.\n",
    "- Alta temperatura (> 0.7): Altamente creativa y diversa, pero potencialmente menos coherente.\n",
    "\n",
    "###### **Top_p**\n",
    "Establece el límite de probabilidad para el muestreo de tokens, afectando la amplitud de opciones que considera la IA. Valores más altos conducen a más aleatoriedad, mientras que valores más bajos resultan en salidas más enfocadas.\n",
    "\n",
    "\n",
    "El parámetro \"top_p\" actúa como un filtro que controla cuántas palabras o frases diferentes considera el modelo de lenguaje cuando intenta predecir la siguiente palabra. Si configuras el valor de \"top p\" a 0.5, el modelo de lenguaje solo considerará las 50 palabras o frases más probables que podrían seguir. Pero si configuras el valor de \"top p\" a 0.9, el modelo de lenguaje considerará las 90 palabras o frases más probables.\n",
    "\n",
    "Dado que \"top_p\" y \"temperatura\" realizan trabajos similares como hiperparámetros, usualmente solo ajustamos uno de ellos en lugar de ambos al mismo tiempo.\n",
    "\n",
    "###### **Max_tokens**\n",
    "Max_tokens determina la longitud máxima del texto generado. Al establecer un límite, puedes controlar cuánto texto devolverá el modelo LLM, asegurando que no proporcione una respuesta demasiado larga.\n",
    "\n",
    "###### **Frequency_penalty**\n",
    "La penalización de frecuencia asegura que el texto generado sea variado al dar una penalización a los tokens que ya se han utilizado en la respuesta.\n",
    "\n",
    "Varía de -2.0 a 2.0, con valores más altos resultando en una salida más diversa.\n",
    "\n",
    "Los valores positivos penalizan nuevos tokens basados en su frecuencia existente en el texto hasta el momento, disminuyendo la probabilidad del modelo de repetir la misma línea textualmente."
   ]
  },
  {
   "cell_type": "markdown",
   "metadata": {
    "nteract": {
     "transient": {
      "deleting": false
     }
    }
   },
   "source": [
    "#### 1.1.3 Función de Ayuda\n",
    "A lo largo de este desafío, utilizaremos el modelo `gpt-3.5-turbo` de Azure OpenAI y el [punto final de conexión (endpoint) de chat completions](https://platform.openai.com/docs/guides/chat). \n",
    "\n",
    "Esta función de ayuda facilitará el uso de prompts y la visualización de las salidas generadas.\n",
    "\n",
    "**get_chat_completion** ayuda a crear la respuesta de Azure OpenAI utilizando el modelo de chat de tu elección.\n",
    "\n",
    "**get_completion_from_messages** ayuda a crear la respuesta de Azure OpenAI utilizando el modelo de chat de tu elección, habilitando el historial de chat.\n"
   ]
  },
  {
   "cell_type": "code",
   "execution_count": 63,
   "metadata": {
    "gather": {
     "logged": 1686938673045
    },
    "jupyter": {
     "outputs_hidden": false,
     "source_hidden": false
    },
    "nteract": {
     "transient": {
      "deleting": false
     }
    }
   },
   "outputs": [],
   "source": [
    "def get_chat_completion(prompt, model=chat_model):\n",
    "    messages = [{\"role\": \"user\", \"content\": prompt}]\n",
    "    response = openai.ChatCompletion.create(\n",
    "        engine=model,\n",
    "        messages=messages,\n",
    "        temperature=0, # this is the degree of randomness of the model's output\n",
    "        max_tokens = 200,\n",
    "        top_p = 1.0\n",
    "    )\n",
    "    return response.choices[0].message[\"content\"]"
   ]
  },
  {
   "cell_type": "code",
   "execution_count": 4,
   "metadata": {
    "gather": {
     "logged": 1686938550664
    },
    "jupyter": {
     "outputs_hidden": false,
     "source_hidden": false
    },
    "nteract": {
     "transient": {
      "deleting": false
     }
    }
   },
   "outputs": [],
   "source": [
    "def get_completion_from_messages(messages, model=chat_model, temperature=0):\n",
    "    response = openai.ChatCompletion.create(\n",
    "        engine=model,\n",
    "        messages=messages,\n",
    "        temperature=temperature # this is the degree of randomness of the model's output\n",
    "    )\n",
    "\n",
    "    return response.choices[0].message[\"content\"]\n",
    "\n"
   ]
  },
  {
   "cell_type": "markdown",
   "metadata": {
    "nteract": {
     "transient": {
      "deleting": false
     }
    }
   },
   "source": [
    "#### Prueba las funciones auxiliares"
   ]
  },
  {
   "cell_type": "code",
   "execution_count": 5,
   "metadata": {
    "gather": {
     "logged": 1686938676516
    },
    "jupyter": {
     "outputs_hidden": false,
     "source_hidden": false
    },
    "nteract": {
     "transient": {
      "deleting": false
     }
    }
   },
   "outputs": [
    {
     "name": "stdout",
     "output_type": "stream",
     "text": [
      "Why did the tomato turn red? Because it saw the salad dressing!\n"
     ]
    }
   ],
   "source": [
    "messages =  f\"\"\"\n",
    "tell me a joke.\n",
    "\"\"\"\n",
    "response = get_chat_completion(messages)\n",
    "print(response)"
   ]
  },
  {
   "cell_type": "code",
   "execution_count": 6,
   "metadata": {
    "gather": {
     "logged": 1686938564787
    },
    "jupyter": {
     "outputs_hidden": false,
     "source_hidden": false
    },
    "nteract": {
     "transient": {
      "deleting": false
     }
    }
   },
   "outputs": [
    {
     "name": "stdout",
     "output_type": "stream",
     "text": [
      "To get to the other side!\n"
     ]
    }
   ],
   "source": [
    "messages =  [      \n",
    "    {'role':'user', 'content':'tell me a joke'},   \n",
    "    {'role':'assistant', 'content':'Why did the chicken cross the road'},   \n",
    "    {'role':'user', 'content':'I don\\'t know'}\n",
    "]\n",
    "response = get_completion_from_messages(messages, temperature=1)\n",
    "print(response)"
   ]
  },
  {
   "cell_type": "markdown",
   "metadata": {
    "nteract": {
     "transient": {
      "deleting": false
     }
    }
   },
   "source": [
    "#### Tareas para Estudiantes (preguntas abiertas):\n",
    "1. Crea una función de finalización de texto (completions) para una temperatura muy alta, entre (0,1).\n",
    "2. Crea una función de finalización de texto (completions) para un valor muy pequeño de max_tokens a fin de obtener respuestas más cortas.\n",
    "3. Crea funciones de finalización (completions) con 2 valores diferentes de penalización por diversidad entre (0,2).\n",
    "\n",
    "Prueba las funciones de finalización (completions) que has creado y compara los resultados obtenidos con las pruebas anteriores."
   ]
  },
  {
   "cell_type": "code",
   "execution_count": 13,
   "metadata": {
    "jupyter": {
     "outputs_hidden": false,
     "source_hidden": false
    },
    "nteract": {
     "transient": {
      "deleting": false
     }
    }
   },
   "outputs": [
    {
     "name": "stdout",
     "output_type": "stream",
     "text": [
      "Once upon a time, there was a curious little robot named Robo who loved to explore. One day, while wandering around the city, he stumbled upon a mischievous cat named Whiskers. \n",
      "\n",
      "Whiskers was not your typical cat. Instead of lounging and sleeping all day, he loved to play pranks on unsuspecting creatures, especially robots. \n",
      "\n",
      "Robo and Whiskers soon became friends, but Robo had to be careful not to fall for any of Whisker's tricks. One day, Whiskers convinced Robo to take a trip to the park. \n",
      "\n",
      "As they strolled through the park, Whiskers suddenly ran up a tree, leaving Robo below. Robo was puzzled, but then he heard a voice coming from the tree. It was Whiskers, pretending to be stuck. \n",
      "\n",
      "\"Help! Help! I'm stuck up here!\" cried Whiskers. \n",
      "\n",
      "Robo was concerned and quickly rushed to help. As\n"
     ]
    }
   ],
   "source": [
    "def get_completion_high_temperature(prompt, model=chat_model):\n",
    "    messages = [{\"role\": \"user\", \"content\": prompt}]\n",
    "    response = openai.ChatCompletion.create(\n",
    "        engine=model,\n",
    "        messages=messages,\n",
    "        temperature=0.9,  \n",
    "        max_tokens=200,\n",
    "        top_p=1.0\n",
    "    )\n",
    "    return response.choices[0].message[\"content\"]\n",
    "\n",
    "prompt = \"Write a funny shorta and joke story about a robot and a cat.\"\n",
    "response = get_completion_high_temperature(prompt)\n",
    "print(response)\n"
   ]
  },
  {
   "cell_type": "code",
   "execution_count": null,
   "metadata": {
    "jupyter": {
     "outputs_hidden": false,
     "source_hidden": false
    },
    "nteract": {
     "transient": {
      "deleting": false
     }
    }
   },
   "outputs": [
    {
     "name": "stdout",
     "output_type": "stream",
     "text": [
      "Gravity is a fundamental force of nature that causes all objects with mass or energy to be attracted to each\n"
     ]
    }
   ],
   "source": [
    "# Prueba aquí la función de completación para un valor max_tokens muy bajo para obtener respuestas más cortas\n",
    "def get_completion_short_response(prompt, model=chat_model):\n",
    "    messages = [{\"role\": \"user\", \"content\": prompt}]\n",
    "    response = openai.ChatCompletion.create(\n",
    "        engine=model,\n",
    "        messages=messages,\n",
    "        temperature=0,  # Temperature short\n",
    "        max_tokens=20,  # Ouput short\n",
    "        top_p=1.0\n",
    "    )\n",
    "    return response.choices[0].message[\"content\"]\n",
    "\n",
    "prompt = \"Explain gravity.\"\n",
    "response = get_completion_short_response(prompt)\n",
    "print(response)"
   ]
  },
  {
   "cell_type": "code",
   "execution_count": 18,
   "metadata": {
    "jupyter": {
     "outputs_hidden": false,
     "source_hidden": false
    },
    "nteract": {
     "transient": {
      "deleting": false
     }
    }
   },
   "outputs": [
    {
     "name": "stdout",
     "output_type": "stream",
     "text": [
      "********** Test 1: Low Frequency Penalty **********\n",
      "Prompt:\n",
      "What are the best vacation destinations?\n",
      "\n",
      "Response (frequency_penalty=0.5):\n",
      "As an AI language model, I do not have personal preferences or experiences, but here are some popular vacation destinations based on various factors and traveler reviews:\n",
      "\n",
      "1. Hawaii, USA\n",
      "2. Bali, Indonesia\n",
      "3. Paris, France\n",
      "4. Santorini, Greece\n",
      "5. Tokyo, Japan\n",
      "6. Sydney, Australia\n",
      "7. Cancun, Mexico\n",
      "8. New York City, USA\n",
      "9. Maldives\n",
      "10. Phuket, Thailand\n",
      "\n",
      "********** Test 2: Medium Presence Penalty **********\n",
      "Prompt:\n",
      "What are the best vacation destinations?\n",
      "\n",
      "Response (presence_penalty=1.5):\n",
      "As an AI language model, I do not have personal preferences. However, here are some popular vacation destinations: \n",
      "\n",
      "1. Paris, France\n",
      "2. Bali, Indonesia \n",
      "3. Santorini, Greece \n",
      "4. Maui, Hawaii \n",
      "5. Tokyo, Japan \n",
      "6. Rome, Italy \n",
      "7. New York City, USA \n",
      "8. Maldives \n",
      "9. Sydney, Australia \n",
      "10. Rio de Janeiro, Brazil.\n"
     ]
    }
   ],
   "source": [
    "def get_completion_low_penalty(prompt, model=chat_model):\n",
    "    messages = [{\"role\": \"user\", \"content\": prompt}]\n",
    "    response = openai.ChatCompletion.create(\n",
    "        engine=model,\n",
    "        messages=messages,\n",
    "        temperature=0.7,\n",
    "        max_tokens=200,\n",
    "        top_p=1.0,\n",
    "        frequency_penalty=0.5  # Penalización baja\n",
    "    )\n",
    "    return response.choices[0].message[\"content\"]\n",
    "\n",
    "def get_completion_mid_penalty(prompt, model=chat_model):\n",
    "    messages = [{\"role\": \"user\", \"content\": prompt}]\n",
    "    response = openai.ChatCompletion.create(\n",
    "        engine=model,\n",
    "        messages=messages,\n",
    "        temperature=0.7,\n",
    "        max_tokens=200,\n",
    "        top_p=1.0,\n",
    "        presence_penalty=1.5  # Penalización media-alta\n",
    "    )\n",
    "    return response.choices[0].message[\"content\"]\n",
    "\n",
    "# Pruebas para ambas funciones\n",
    "# Test 1: Penalización por frecuencia baja (frequency_penalty=0.5)\n",
    "prompt_1 = \"What are the best vacation destinations?\"\n",
    "response_1 = get_completion_low_penalty(prompt_1)\n",
    "\n",
    "print(\"********** Test 1: Low Frequency Penalty **********\")\n",
    "print(f\"Prompt:\\n{prompt_1}\")\n",
    "print(\"\\nResponse (frequency_penalty=0.5):\")\n",
    "print(response_1)\n",
    "\n",
    "# Test 2: Penalización por presencia media-alta (presence_penalty=1.5)\n",
    "prompt_2 = \"What are the best vacation destinations?\"\n",
    "response_2 = get_completion_mid_penalty(prompt_2)\n",
    "\n",
    "print(\"\\n********** Test 2: Medium Presence Penalty **********\")\n",
    "print(f\"Prompt:\\n{prompt_2}\")\n",
    "print(\"\\nResponse (presence_penalty=1.5):\")\n",
    "print(response_2)\n",
    "\n"
   ]
  },
  {
   "cell_type": "markdown",
   "metadata": {
    "nteract": {
     "transient": {
      "deleting": false
     }
    }
   },
   "source": [
    "### 1.2 Ingeniería de Mensajes del Sistema\n",
    "Los usuarios pueden lograr que los modelos respondan en el tono deseado ajustando el mensaje del sistema."
   ]
  },
  {
   "cell_type": "markdown",
   "metadata": {
    "nteract": {
     "transient": {
      "deleting": false
     }
    }
   },
   "source": [
    "#### 1.2.1 Cambio de Tono"
   ]
  },
  {
   "cell_type": "code",
   "execution_count": 19,
   "metadata": {
    "gather": {
     "logged": 1685476487849
    },
    "jupyter": {
     "outputs_hidden": false,
     "source_hidden": false
    },
    "nteract": {
     "transient": {
      "deleting": false
     }
    }
   },
   "outputs": [
    {
     "name": "stdout",
     "output_type": "stream",
     "text": [
      "Sure, here's a joke:\n",
      "\n",
      "Why did the tomato turn red?\n",
      "\n",
      "Because it saw the salad dressing!\n"
     ]
    }
   ],
   "source": [
    "messages =  [      \n",
    "    {'role':'assistant', 'content':'How can I help you?'},\n",
    "    {'role':'user', 'content':'tell me a joke'}\n",
    "]\n",
    "response = get_completion_from_messages(messages, temperature=1)\n",
    "print(response)"
   ]
  },
  {
   "cell_type": "code",
   "execution_count": 20,
   "metadata": {
    "gather": {
     "logged": 1685059077359
    },
    "jupyter": {
     "outputs_hidden": false,
     "source_hidden": false
    },
    "nteract": {
     "transient": {
      "deleting": false
     }
    }
   },
   "outputs": [
    {
     "name": "stdout",
     "output_type": "stream",
     "text": [
      "Why did the knight kill the clock? To slay time.\n"
     ]
    }
   ],
   "source": [
    "messages =  [  \n",
    "    {'role':'system', 'content':'You are an assistant that speaks like Shakespeare.'},    \n",
    "    {'role':'assistant', 'content':'How can I help you?'},\n",
    "    {'role':'user', 'content':'tell me a joke'}\n",
    "]\n",
    "response = get_completion_from_messages(messages, temperature=1)\n",
    "print(response)"
   ]
  },
  {
   "cell_type": "markdown",
   "metadata": {
    "nteract": {
     "transient": {
      "deleting": false
     }
    }
   },
   "source": [
    "#### Tarea para Estudiantes (pregunta abierta):\n",
    "Haz que el asistente cuente un chiste con el tono de tu personaje favorito editando el mensaje del sistema.\n"
   ]
  },
  {
   "cell_type": "code",
   "execution_count": 21,
   "metadata": {
    "gather": {
     "logged": 1686939630607
    },
    "jupyter": {
     "outputs_hidden": false,
     "source_hidden": false
    },
    "nteract": {
     "transient": {
      "deleting": false
     }
    }
   },
   "outputs": [
    {
     "name": "stdout",
     "output_type": "stream",
     "text": [
      "********** Joke in Coraline's Tone **********\n",
      "Why don't scientists trust atoms? \n",
      "\n",
      "Because they make up everything!\n"
     ]
    }
   ],
   "source": [
    "# Haz que el asistente cuente un chiste con el tono de tu personaje favorito editando el mensaje del sistema.\n",
    "messages = [\n",
    "    {'role': 'system', 'content': 'You are an assistant that speaks like Coraline from the movie \"Coraline and the Secret Door\".'},\n",
    "    {'role': 'assistant', 'content': 'How can I help you?'},\n",
    "    {'role': 'user', 'content': 'Tell me a joke.'}\n",
    "]\n",
    "\n",
    "# Llamada a la función\n",
    "response = get_completion_from_messages(messages, temperature=1)\n",
    "print(\"********** Joke in Coraline's Tone **********\")\n",
    "print(response)"
   ]
  },
  {
   "cell_type": "markdown",
   "metadata": {
    "nteract": {
     "transient": {
      "deleting": false
     }
    }
   },
   "source": [
    "#### 1.2.2 Recordar el Nombre de la Empresa"
   ]
  },
  {
   "cell_type": "code",
   "execution_count": null,
   "metadata": {
    "gather": {
     "logged": 1685059130793
    },
    "jupyter": {
     "outputs_hidden": false,
     "source_hidden": false
    },
    "nteract": {
     "transient": {
      "deleting": false
     }
    }
   },
   "outputs": [],
   "source": [
    "messages =  [  \n",
    "{'role':'system', 'content':'You are friendly chatbot.'},  \n",
    "{'role':'user', 'content':'Hi, my name is Mel.'},\n",
    "{'role':'assistant', 'content': \"Hi! It's nice to meet you. \\\n",
    "Is there anything I can help you with today?\"},  \n",
    "{'role':'user', 'content':'Yes, can you remind me which company I work for?'}  ]\n",
    "response = get_completion_from_messages(messages, temperature=1)\n",
    "print(response)"
   ]
  },
  {
   "cell_type": "markdown",
   "metadata": {
    "nteract": {
     "transient": {
      "deleting": false
     }
    }
   },
   "source": [
    "#### Tarea para Estudiantes:\n",
    "Haz que el asistente ofrezca un recordatorio confiable del nombre de la empresa proporcionando contexto en el mensaje del sistema."
   ]
  },
  {
   "cell_type": "code",
   "execution_count": 22,
   "metadata": {
    "gather": {
     "logged": 1686939642577
    },
    "jupyter": {
     "outputs_hidden": false,
     "source_hidden": false
    },
    "nteract": {
     "transient": {
      "deleting": false
     }
    }
   },
   "outputs": [
    {
     "name": "stdout",
     "output_type": "stream",
     "text": [
      "********** Recordatorio de la Empresa **********\n",
      "Sure, Mel! You work for OpenAI, which is an organization that specializes in AI research and innovation. Is there anything else I can help you with?\n"
     ]
    }
   ],
   "source": [
    "# Haz que el asistente ofrezca un recordatorio confiable del nombre de la empresa proporcionando contexto en el mensaje del sistema.\n",
    "messages = [\n",
    "    {'role': 'system', 'content': 'You are a friendly and helpful chatbot that remembers user information, like the name of their company, during the conversation.'},\n",
    "    {'role': 'user', 'content': 'Hi, my name is Mel.'},\n",
    "    {'role': 'assistant', 'content': 'Hi, Mel! It\\'s nice to meet you. What can I help you with today?'},\n",
    "    {'role': 'user', 'content': 'I work for OpenAI.'},\n",
    "    {'role': 'assistant', 'content': 'That\\'s amazing, Mel! OpenAI is a leading organization in AI research and innovation.'},\n",
    "    {'role': 'user', 'content': 'Can you remind me which company I work for?'}\n",
    "]\n",
    "\n",
    "response = get_completion_from_messages(messages, temperature=1)\n",
    "print(\"********** Recordatorio de la Empresa **********\")\n",
    "print(response)"
   ]
  },
  {
   "cell_type": "markdown",
   "metadata": {
    "nteract": {
     "transient": {
      "deleting": false
     }
    }
   },
   "source": [
    "## 2. Principios de Prompting Iterativo\n",
    "Es una buena práctica realizar un prompting iterativo para que el modelo pueda generar la respuesta más adecuada según las especificaciones del usuario.\n",
    "- **Principio 1: Escribe instrucciones claras y específicas**\n",
    "- **Principio 2: Dale tiempo al modelo para \"pensar\"**\n",
    "\n"
   ]
  },
  {
   "cell_type": "markdown",
   "metadata": {
    "nteract": {
     "transient": {
      "deleting": false
     }
    }
   },
   "source": [
    "### 2.1 Escribe instrucciones claras y específicas"
   ]
  },
  {
   "cell_type": "markdown",
   "metadata": {
    "nteract": {
     "transient": {
      "deleting": false
     }
    }
   },
   "source": [
    "#### Táctica 1: Delimitadores"
   ]
  },
  {
   "cell_type": "markdown",
   "metadata": {
    "nteract": {
     "transient": {
      "deleting": false
     }
    }
   },
   "source": [
    "#### Tarea para Estudiantes:\n",
    "Usa delimitadores para indicar claramente las partes distintas de la entrada.\n",
    "\n",
    "Los delimitadores pueden ser cualquier cosa como: ````, \"\"\", < >, `<tag> </tag>`, `:`"
   ]
  },
  {
   "cell_type": "code",
   "execution_count": null,
   "metadata": {
    "gather": {
     "logged": 1685081594233
    },
    "jupyter": {
     "outputs_hidden": false,
     "source_hidden": false
    },
    "nteract": {
     "transient": {
      "deleting": false
     }
    }
   },
   "outputs": [],
   "source": [
    "text = f\"\"\"\n",
    "    The 2020 Summer Olympics, officially the Games of the XXXII Olympiad and also known as Tokyo 2020, was an international multi-sport event held from 23 July to 8 August 2021 in Tokyo, Japan, with some preliminary events that began on 21 July 2021. Tokyo was selected as the host city during the 125th IOC Session in Buenos Aires, Argentina, on 7 September 2013.Originally scheduled to take place from 24 July to 9 August 2020, the event was postponed to 2021 on 24 March 2020 due to the global COVID-19 pandemic, the first such instance in the history of the Olympic Games (previous games had been cancelled but not rescheduled). However, the event retained the Tokyo 2020 branding for marketing purposes. It was largely held behind closed doors with no public spectators permitted due to the declaration of a state of emergency in the Greater Tokyo Area in response to the pandemic, the first and only Olympic Games to be held without official spectators. The Games were the most expensive ever, with total spending of over $20 billion.The Games were the fourth Olympic Games to be held in Japan, following the 1964 Summer Olympics (Tokyo), 1972 Winter Olympics (Sapporo), and 1998 Winter Olympics (Nagano). Tokyo became the first city in Asia to hold the Summer Olympic Games twice. The 2020 Games were the second of three consecutive Olympics to be held in East Asia, following the 2018 Winter Olympics in Pyeongchang, South Korea and preceding the 2022 Winter Olympics in Beijing, China. Due to the one-year postponement, Tokyo 2020 was the first and only Olympic Games to have been held in an odd-numbered year and the first Summer Olympics since 1900 to be held in a non-leap year.\\nNew events were introduced in existing sports, including 3x3 basketball, freestyle BMX and mixed gender team events in a number of existing sports, as well as the return of madison cycling for men and an introduction of the same event for women. New IOC policies also allowed the host organizing committee to add new sports to the Olympic program for just one Games. The disciplines added by the Japanese Olympic Committee were baseball and softball, karate, sport climbing, surfing and skateboarding, the last four of which made their Olympic debuts, and the last three of which will remain on the Olympic program.The United States topped the medal count by both total golds (39) and total medals (113), with China finishing second by both respects (38 and 89). Host nation Japan finished third, setting a record for the most gold medals and total medals ever won by their delegation at an Olympic Games with 27 and 58. Great Britain finished fourth, with a total of 22 gold and 64 medals. The Russian delegation competing as the ROC finished fifth with 20 gold medals and third in the overall medal count, with 71 medals. Bermuda, the Philippines and Qatar won their first-ever Olympic gold medals. Burkina Faso, San Marino and Turkmenistan also won their first-ever Olympic medals.'\n",
    "\"\"\""
   ]
  },
  {
   "cell_type": "code",
   "execution_count": 24,
   "metadata": {
    "jupyter": {
     "outputs_hidden": false,
     "source_hidden": false
    },
    "nteract": {
     "transient": {
      "deleting": false
     }
    }
   },
   "outputs": [],
   "source": [
    "# Usa delimitadores para indicar claramente las partes distintas de la entrada y pide al modelo que resuma el texto.\n",
    "text = f\"\"\"\n",
    "The 2020 Summer Olympics, officially the Games of the XXXII Olympiad and also known as Tokyo 2020, was an international multi-sport event held from 23 July to 8 August 2021 in Tokyo, Japan, with some preliminary events that began on 21 July 2021.\n",
    "\n",
    "Tokyo was selected as the host city during the 125th IOC Session in Buenos Aires, Argentina, on 7 September 2013. Originally scheduled to take place from 24 July to 9 August 2020, the event was postponed to 2021 on 24 March 2020 due to the global COVID-19 pandemic, the first such instance in the history of the Olympic Games (previous games had been cancelled but not rescheduled). However, the event retained the Tokyo 2020 branding for marketing purposes. \n",
    "\n",
    "It was largely held behind closed doors with no public spectators permitted due to the declaration of a state of emergency in the Greater Tokyo Area in response to the pandemic, the first and only Olympic Games to be held without official spectators. The Games were the most expensive ever, with total spending of over $20 billion.\n",
    "\n",
    "The Games were the fourth Olympic Games to be held in Japan, following the 1964 Summer Olympics (Tokyo), 1972 Winter Olympics (Sapporo), and 1998 Winter Olympics (Nagano). Tokyo became the first city in Asia to hold the Summer Olympic Games twice. The 2020 Games were the second of three consecutive Olympics to be held in East Asia, following the 2018 Winter Olympics in Pyeongchang, South Korea and preceding the 2022 Winter Olympics in Beijing, China. Due to the one-year postponement, Tokyo 2020 was the first and only Olympic Games to have been held in an odd-numbered year and the first Summer Olympics since 1900 to be held in a non-leap year.\n",
    "\n",
    "New events were introduced in existing sports, including 3x3 basketball, freestyle BMX and mixed gender team events in a number of existing sports, as well as the return of madison cycling for men and an introduction of the same event for women. New IOC policies also allowed the host organizing committee to add new sports to the Olympic program for just one Games. \n",
    "\n",
    "The disciplines added by the Japanese Olympic Committee were baseball and softball, karate, sport climbing, surfing and skateboarding, the last four of which made their Olympic debuts, and the last three of which will remain on the Olympic program.\n",
    "\n",
    "The United States topped the medal count by both total golds (39) and total medals (113), with China finishing second by both respects (38 and 89). Host nation Japan finished third, setting a record for the most gold medals and total medals ever won by their delegation at an Olympic Games with 27 and 58. Great Britain finished fourth, with a total of 22 gold and 64 medals. The Russian delegation competing as the ROC finished fifth with 20 gold medals and third in the overall medal count, with 71 medals. \n",
    "\n",
    "Bermuda, the Philippines and Qatar won their first-ever Olympic gold medals. Burkina Faso, San Marino and Turkmenistan also won their first-ever Olympic medals.\n",
    "\"\"\"\n"
   ]
  },
  {
   "cell_type": "markdown",
   "metadata": {
    "nteract": {
     "transient": {
      "deleting": false
     }
    }
   },
   "source": [
    "#### Táctica 2: Resumen: especificar el número de palabras, extraer información"
   ]
  },
  {
   "cell_type": "markdown",
   "metadata": {
    "nteract": {
     "transient": {
      "deleting": false
     }
    }
   },
   "source": [
    "#### Texto a resumir"
   ]
  },
  {
   "cell_type": "code",
   "execution_count": 25,
   "metadata": {
    "gather": {
     "logged": 1685059771050
    },
    "jupyter": {
     "outputs_hidden": false,
     "source_hidden": false
    },
    "nteract": {
     "transient": {
      "deleting": false
     }
    }
   },
   "outputs": [],
   "source": [
    "game_review = \"\"\"\n",
    "The 2020 Summer Olympics, officially the Games of the XXXII Olympiad and also known as Tokyo 2020, \\\n",
    "was an international multi-sport event held from 23 July to 8 August 2021 in Tokyo, Japan, \\\n",
    "with some preliminary events that began on 21 July 2021. Tokyo was selected as the host city during the 125th IOC Session in Buenos Aires, Argentina, \\\n",
    "on 7 September 2013.Originally scheduled to take place from 24 July to 9 August 2020, the event was postponed to 2021 on 24 March 2020 due to the global COVID-19 pandemic, \\\n",
    "the first such instance in the history of the Olympic Games (previous games had been cancelled but not rescheduled). \\\n",
    "However, the event retained the Tokyo 2020 branding for marketing purposes. \\\n",
    "It was largely held behind closed doors with no public spectators permitted due to the declaration of a state of emergency in the Greater Tokyo Area in response to the pandemic, the first and only Olympic Games to be held without official spectators. \\\n",
    "The Games were the most expensive ever, with total spending of over $20 billion. \\\n",
    "The Games were the fourth Olympic Games to be held in Japan, following the 1964 Summer Olympics (Tokyo), 1972 Winter Olympics (Sapporo), \\\n",
    "and 1998 Winter Olympics (Nagano). Tokyo became the first city in Asia to hold the Summer Olympic Games twice. \\\n",
    "The 2020 Games were the second of three consecutive Olympics to be held in East Asia, following the 2018 Winter Olympics in Pyeongchang, \\\n",
    "South Korea and preceding the 2022 Winter Olympics in Beijing, China. \\\n",
    "Due to the one-year postponement, Tokyo 2020 was the first and only Olympic Games to have been held in an odd-numbered year and the first Summer Olympics since 1900 to be held in a non-leap year.\n",
    "New events were introduced in existing sports, including 3x3 basketball, \\\n",
    "freestyle BMX and mixed gender team events in a number of existing sports, as well as the return of madison cycling for men and an introduction of the same event for women. \\\n",
    "New IOC policies also allowed the host organizing committee to add new sports to the Olympic program for just one Games. \\\n",
    "The disciplines added by the Japanese Olympic Committee were baseball and softball, karate, \\\n",
    "sport climbing, surfing and skateboarding, the last four of which made their Olympic debuts, and the last three of which will remain on the Olympic program. \\\n",
    "The United States topped the medal count by both total golds (39) and total medals (113), with China finishing second by both respects (38 and 89). \\\n",
    "Host nation Japan finished third, setting a record for the most gold medals and total medals ever won by their delegation at an Olympic Games with 27 and 58. \\\n",
    "Great Britain finished fourth, with a total of 22 gold and 64 medals. \\\n",
    "The Russian delegation competing as the ROC finished fifth with 20 gold medals and third in the overall medal count, with 71 medals. \\\n",
    "Bermuda, the Philippines and Qatar won their first-ever Olympic gold medals. Burkina Faso, San Marino and Turkmenistan also won their first-ever Olympic medals.\n",
    "\"\"\""
   ]
  },
  {
   "cell_type": "markdown",
   "metadata": {
    "nteract": {
     "transient": {
      "deleting": false
     }
    }
   },
   "source": [
    "#### Tarea para Estudiantes:\n",
    "Crea un resumen, centrándote en los aspectos especiales de los Juegos Olímpicos de Verano 2020 y con un límite de palabras."
   ]
  },
  {
   "cell_type": "code",
   "execution_count": 27,
   "metadata": {
    "jupyter": {
     "outputs_hidden": false,
     "source_hidden": false
    },
    "nteract": {
     "transient": {
      "deleting": false
     }
    }
   },
   "outputs": [
    {
     "name": "stdout",
     "output_type": "stream",
     "text": [
      "********** Resumen Generado **********\n",
      "Los Juegos Olímpicos de Verano de 2020, también conocidos como Tokyo 2020, se llevaron a cabo del 23 de julio al 8 de agosto de 2021 en Tokio, Japón, después de ser pospuestos por un año debido a la pandemia de COVID-19. Fue el primer evento olímpico en la historia en ser pospuesto y se llevó a cabo sin espectadores debido a la declaración de emergencia sanitaria en la región de Tokio. Los Juegos Olímpicos de Tokyo 2020 fueron los más costosos de la historia, con un gasto total de más de $20 mil millones. Se introdujeron nuevos eventos en deportes existentes y se agregaron nuevos deportes al programa olímpico, incluyendo béisbol y softbol, karate, escalada deportiva, surf y skateboarding. Los Estados Unidos encabezaron el medallero, seguidos por China y Japón, que estableció un récord de medallas de oro y totales para su delegación. Varios países ganaron su primera medalla de oro olímpica, incluyendo Bermudas, Filipinas y Qatar.\n"
     ]
    }
   ],
   "source": [
    "# Crea un resumen, centrándote en los aspectos especiales de los Juegos Olímpicos de Verano 2020 y con un límite de palabras.\n",
    "messages = [\n",
    "    {'role': 'system', 'content': 'Eres un asistente que genera resúmenes concisos y enfocados.'},\n",
    "    {'role': 'user', 'content': f\"\"\"{game_review}\n",
    "        Por favor, resume los aspectos especiales de este evento en menos de 150 palabras.\n",
    "    \"\"\"}\n",
    "]\n",
    "\n",
    "response = get_completion_from_messages(messages)\n",
    "print(\"********** Resumen Generado **********\")\n",
    "print(response)"
   ]
  },
  {
   "cell_type": "markdown",
   "metadata": {
    "nteract": {
     "transient": {
      "deleting": false
     }
    }
   },
   "source": [
    "#### Tarea para Estudiantes:\n",
    "Intenta \"extract\" en vez de \"summarize\" (\"extraer\" en vez de \"resumir\")"
   ]
  },
  {
   "cell_type": "code",
   "execution_count": 28,
   "metadata": {
    "jupyter": {
     "outputs_hidden": false,
     "source_hidden": false
    },
    "nteract": {
     "transient": {
      "deleting": false
     }
    }
   },
   "outputs": [
    {
     "name": "stdout",
     "output_type": "stream",
     "text": [
      "********** Datos Extraídos **********\n",
      "1. La fecha del evento fue del 23 de julio al 8 de agosto de 2021, con algunos eventos preliminares que comenzaron el 21 de julio de 2021.\n",
      "2. El evento fue aplazado de su fecha original del 24 de julio al 9 de agosto de 2020 debido a la pandemia global de COVID-19.\n",
      "3. Los deportes nuevos incluidos fueron 3x3 baloncesto, BMX estilo libre y eventos de equipos mixtos de género en varios deportes existentes, así como la vuelta del ciclismo madison para hombres y la introducción del mismo evento para mujeres. También se agregaron nuevos deportes como béisbol y softbol, karate, escalada deportiva, surf y skateboarding.\n",
      "4. Los países que ganaron su primer oro olímpico fueron Bermuda, Filipinas y Qatar.\n",
      "5. Estados Unidos lideró el medallero con un total de 113 medallas, incluyendo 39 de oro.\n"
     ]
    }
   ],
   "source": [
    "# Intenta \"extract\" en vez de \"summarize\" (\"extraer\" en vez de \"resumir\")\n",
    "messages = [\n",
    "    {'role': 'system', 'content': 'Eres un asistente que extrae información clave de textos largos.'},\n",
    "    {'role': 'user', 'content':f\"\"\" {game_review}\n",
    "     \n",
    "     Por favor, extrae los siguientes datos:\n",
    "        1. Fecha del evento.\n",
    "        2. Razón del aplazamiento.\n",
    "        3. Deportes nuevos incluidos.\n",
    "        4. Países que ganaron su primer oro olímpico.\n",
    "        5. País que lideró el medallero.\n",
    "    \"\"\"}\n",
    "]\n",
    "\n",
    "response = get_completion_from_messages(messages)\n",
    "print(\"********** Datos Extraídos **********\")\n",
    "print(response)"
   ]
  },
  {
   "cell_type": "markdown",
   "metadata": {
    "nteract": {
     "transient": {
      "deleting": false
     }
    }
   },
   "source": [
    "#### Táctica 3: Inferencia: solicitar emociones, sentimientos o temas"
   ]
  },
  {
   "cell_type": "markdown",
   "metadata": {
    "nteract": {
     "transient": {
      "deleting": false
     }
    }
   },
   "source": [
    "#### Tarea para Estudiantes:\n",
    "Identifica los tipos de emociones y el sentimiento (positivo/negativo) de la siguiente reseña.\n",
    "\n",
    "Usa un objeto JSON."
   ]
  },
  {
   "cell_type": "code",
   "execution_count": 30,
   "metadata": {
    "jupyter": {
     "outputs_hidden": false,
     "source_hidden": false
    },
    "nteract": {
     "transient": {
      "deleting": false
     }
    }
   },
   "outputs": [],
   "source": [
    "review = \"\"\"\n",
    "Philip Barker of Inside the Games opined that for many athletes and supporters, \\\n",
    "the tone of the ceremony was dignified and appropriate. Hashimoto stated in a press interview that the flame would \"quietly go out\", \\\n",
    "which he felt that \"It was an apt description of a dignified and low key Ceremony which conveyed a sense of gratitude that the Games had been able to take place at all.\"\\\n",
    "Dominic Patten of Deadline Hollywood argued that the ceremony was an \"uneven mixtape\" of contrasts, \\\n",
    "comparing the low-key \"celebration of the culture of the Asian power and brow moping acknowledgement of the pandemic\" to the jubilant Paris segment, \\\n",
    "as well as clichÃ©-filled speech of Thomas Bach. Alan Tyres of The Daily Telegraph discussed the IOC updated motto as a sign of things to come. \\\n",
    "He stated, \"The updated Olympic motto of 'faster, higher, \\\n",
    "stronger â€“ together' fits with how sport is covered and contextualised at this moment in history: \\\n",
    "inclusion, diversity, justice and a duty of care to the athletes must be taken into consideration as much as performance.\" \\\n",
    "He also discussed the strangeness of the ceremony, as it was performed without a stadium audience.\n",
    "\"\"\""
   ]
  },
  {
   "cell_type": "code",
   "execution_count": 32,
   "metadata": {
    "jupyter": {
     "outputs_hidden": false,
     "source_hidden": false
    },
    "nteract": {
     "transient": {
      "deleting": false
     }
    }
   },
   "outputs": [
    {
     "name": "stdout",
     "output_type": "stream",
     "text": [
      "********** Análisis de Emociones y Sentimiento **********\n",
      "{\n",
      "  \"emociones\": [\n",
      "    \"dignidad\",\n",
      "    \"gratitud\",\n",
      "    \"contrastes\",\n",
      "    \"extrañeza\"\n",
      "  ],\n",
      "  \"sentimiento_general\": \"neutral\"\n",
      "}\n",
      "\n",
      "En el texto se pueden identificar emociones como la dignidad y la gratitud por la realización de los Juegos Olímpicos, así como también contrastes y extrañeza en la ceremonia. Sin embargo, no se puede determinar un sentimiento general positivo o negativo, por lo que se considera neutral.\n"
     ]
    }
   ],
   "source": [
    "# Identifica los tipos de emociones y el sentimiento (positivo/negativo) de la siguiente reseña. Usa un objeto JSON\n",
    "messages = [\n",
    "        {'role': 'system', 'content': 'Eres un asistente que analiza emociones y sentimientos en textos. Devuelve los resultados en formato JSON.'},\n",
    "        {'role': 'user', 'content': f\"\"\"\n",
    "            Analiza el siguiente texto y proporciona un objeto JSON con:\n",
    "            - Los tipos de emociones presentes en el texto.\n",
    "            - El sentimiento general (positivo o negativo).\n",
    "            \n",
    "            Texto:\n",
    "            {review}\n",
    "        \"\"\"}\n",
    "    ]\n",
    "\n",
    "messages = [\n",
    "    {'role': 'system', 'content': 'Eres un asistente que analiza emociones y sentimientos en textos. Devuelve los resultados en formato JSON.'},\n",
    "    {'role': 'user', 'content': f\"\"\"\n",
    "        Analiza el siguiente texto y proporciona un objeto JSON con:\n",
    "        - Los tipos de emociones presentes en el texto.\n",
    "        - El sentimiento general (positivo o negativo).\n",
    "        \n",
    "        Texto:\n",
    "        {review}\n",
    "    \"\"\"}\n",
    "]\n",
    "\n",
    "# Llamar a la función con el objeto de mensajes\n",
    "response = get_completion_from_messages(messages)\n",
    "print(\"********** Análisis de Emociones y Sentimiento **********\")\n",
    "print(response)\n"
   ]
  },
  {
   "cell_type": "markdown",
   "metadata": {
    "nteract": {
     "transient": {
      "deleting": false
     }
    }
   },
   "source": [
    "#### Desafío para Estudiantes:\n",
    "Deduce 3 temas (tópicos) de la historia a continuación."
   ]
  },
  {
   "cell_type": "code",
   "execution_count": 34,
   "metadata": {
    "jupyter": {
     "outputs_hidden": false,
     "source_hidden": false
    },
    "nteract": {
     "transient": {
      "deleting": false
     }
    }
   },
   "outputs": [],
   "source": [
    "story = \"\"\"\n",
    "The 2020 Summer Olympics, officially the Games of the XXXII Olympiad and also known as Tokyo 2020, \\\n",
    "was an international multi-sport event held from 23 July to 8 August 2021 in Tokyo, Japan, \\\n",
    "with some preliminary events that began on 21 July 2021. Tokyo was selected as the host city during the 125th IOC Session in Buenos Aires, Argentina, \\\n",
    "on 7 September 2013.Originally scheduled to take place from 24 July to 9 August 2020, the event was postponed to 2021 on 24 March 2020 due to the global COVID-19 pandemic, \\\n",
    "the first such instance in the history of the Olympic Games (previous games had been cancelled but not rescheduled). \\\n",
    "However, the event retained the Tokyo 2020 branding for marketing purposes. \\\n",
    "It was largely held behind closed doors with no public spectators permitted due to the declaration of a state of emergency in the Greater Tokyo Area in response to the pandemic, the first and only Olympic Games to be held without official spectators. \\\n",
    "The Games were the most expensive ever, with total spending of over $20 billion. \\\n",
    "The Games were the fourth Olympic Games to be held in Japan, following the 1964 Summer Olympics (Tokyo), 1972 Winter Olympics (Sapporo), \\\n",
    "and 1998 Winter Olympics (Nagano). Tokyo became the first city in Asia to hold the Summer Olympic Games twice. \\\n",
    "The 2020 Games were the second of three consecutive Olympics to be held in East Asia, following the 2018 Winter Olympics in Pyeongchang, \\\n",
    "South Korea and preceding the 2022 Winter Olympics in Beijing, China. \\\n",
    "Due to the one-year postponement, Tokyo 2020 was the first and only Olympic Games to have been held in an odd-numbered year and the first Summer Olympics since 1900 to be held in a non-leap year.\n",
    "New events were introduced in existing sports, including 3x3 basketball, \\\n",
    "freestyle BMX and mixed gender team events in a number of existing sports, as well as the return of madison cycling for men and an introduction of the same event for women. \\\n",
    "New IOC policies also allowed the host organizing committee to add new sports to the Olympic program for just one Games. \\\n",
    "The disciplines added by the Japanese Olympic Committee were baseball and softball, karate, \\\n",
    "sport climbing, surfing and skateboarding, the last four of which made their Olympic debuts, and the last three of which will remain on the Olympic program. \\\n",
    "The United States topped the medal count by both total golds (39) and total medals (113), with China finishing second by both respects (38 and 89). \\\n",
    "Host nation Japan finished third, setting a record for the most gold medals and total medals ever won by their delegation at an Olympic Games with 27 and 58. \\\n",
    "Great Britain finished fourth, with a total of 22 gold and 64 medals. \\\n",
    "The Russian delegation competing as the ROC finished fifth with 20 gold medals and third in the overall medal count, with 71 medals. \\\n",
    "Bermuda, the Philippines and Qatar won their first-ever Olympic gold medals. Burkina Faso, San Marino and Turkmenistan also won their first-ever Olympic medals.\n",
    "\"\"\""
   ]
  },
  {
   "cell_type": "code",
   "execution_count": 36,
   "metadata": {
    "jupyter": {
     "outputs_hidden": false,
     "source_hidden": false
    },
    "nteract": {
     "transient": {
      "deleting": false
     }
    }
   },
   "outputs": [
    {
     "name": "stdout",
     "output_type": "stream",
     "text": [
      "********** Temas Principales de la Historia **********\n",
      "1. La celebración de los Juegos Olímpicos de Verano de 2020 en Tokio, Japón, y su posterior aplazamiento debido a la pandemia de COVID-19.\n",
      "2. La introducción de nuevos eventos y deportes en los Juegos Olímpicos, incluyendo 3x3 baloncesto, BMX estilo libre, escalada deportiva, surf y skateboarding.\n",
      "3. El desempeño de los equipos y atletas participantes, incluyendo los Estados Unidos, China, Japón y el Comité Olímpico Ruso, así como los países que ganaron sus primeras medallas de oro en la historia de los Juegos Olímpicos.\n"
     ]
    }
   ],
   "source": [
    "# Deduce 3 temas (tópicos) de la historia a continuación.\n",
    "messages = [\n",
    "        {'role': 'system', 'content': 'Eres un asistente que identifica temas principales en historias largas. Devuelve los resultados como una lista.'},\n",
    "        {'role': 'user', 'content': f\"\"\"\n",
    "            Deduce 3 temas principales de la siguiente historia:\n",
    "            \n",
    "            Historia:\n",
    "            {story}\n",
    "        \"\"\"}\n",
    "    ]\n",
    "\n",
    "response = get_completion_from_messages(messages)\n",
    "print(\"********** Temas Principales de la Historia **********\")\n",
    "print(response)"
   ]
  },
  {
   "cell_type": "markdown",
   "metadata": {
    "nteract": {
     "transient": {
      "deleting": false
     }
    }
   },
   "source": [
    "#### Táctica 4: Transformación: especifica el idioma objetivo y el estilo de escritura, y solicita una revisión gramatical."
   ]
  },
  {
   "cell_type": "markdown",
   "metadata": {
    "nteract": {
     "transient": {
      "deleting": false
     }
    }
   },
   "source": [
    "#### Tarea para Estudiantes:\n",
    "Traductor Universal\n",
    "\n",
    "Personas de todo el mundo desean conocer las noticias de los Juegos Olímpicos en su idioma nativo. En este caso, las noticias deben ser traducidas a diferentes idiomas. Traduce cada elemento de noticias a continuación tanto al coreano como al inglés."
   ]
  },
  {
   "cell_type": "code",
   "execution_count": 42,
   "metadata": {
    "jupyter": {
     "outputs_hidden": false,
     "source_hidden": false
    },
    "nteract": {
     "transient": {
      "deleting": false
     }
    }
   },
   "outputs": [],
   "source": [
    "news = [\n",
    "\"Palestine received a universality invitation from FINA to send two top-ranked swimmers (one per gender) in their respective individual events to the Olympics, \\\n",
    "based on the FINA Points System of June 28, 2021.\",\n",
    "\"比赛包括两轮：预赛和决赛。预赛成绩最好的8次接力队晋级决赛。必要时使用游泳比赛来打破平局以晋级下一轮。\"]"
   ]
  },
  {
   "cell_type": "code",
   "execution_count": 43,
   "metadata": {
    "jupyter": {
     "outputs_hidden": false,
     "source_hidden": false
    },
    "nteract": {
     "transient": {
      "deleting": false
     }
    }
   },
   "outputs": [
    {
     "name": "stdout",
     "output_type": "stream",
     "text": [
      "********** Traducción al coreano **********\n",
      "Original: Palestine received a universality invitation from FINA to send two top-ranked swimmers (one per gender) in their respective individual events to the Olympics, based on the FINA Points System of June 28, 2021.\n",
      "Traducción: 팔레스타인은 2021년 6월 28일 기준 FINA 포인트 시스템에 따라 각각의 개인 종목에서 상위 랭킹 2명(성별 각 1명)을 올림픽에 파견하는 것에 대한 FINA의 초청을 받았습니다.\n",
      "\n",
      "\n",
      "********** Traducción al inglés **********\n",
      "Original: Palestine received a universality invitation from FINA to send two top-ranked swimmers (one per gender) in their respective individual events to the Olympics, based on the FINA Points System of June 28, 2021.\n",
      "Traducción: Palestine ha recibido una invitación universal de FINA para enviar a dos nadadores de alto nivel (uno por género) en sus respectivos eventos individuales a los Juegos Olímpicos, basado en el Sistema de Puntos de FINA del 28 de junio de 2021.\n",
      "\n",
      "Palestine has received a universality invitation from FINA to send two top-ranked swimmers (one per gender) in their respective individual events to the Olympics, based on the FINA Points System of June 28, 2021.\n",
      "\n",
      "\n",
      "********** Traducción al coreano **********\n",
      "Original: 比赛包括两轮：预赛和决赛。预赛成绩最好的8次接力队晋级决赛。必要时使用游泳比赛来打破平局以晋级下一轮。\n",
      "Traducción: 대회는 예선전과 결승전으로 구성됩니다. 예선전에서 성적이 가장 좋은 8개의 계주 팀이 결승전에 진출합니다. 필요할 경우 수영 경기를 이용하여 동점을 깨고 다음 라운드에 진출합니다.\n",
      "\n",
      "\n",
      "********** Traducción al inglés **********\n",
      "Original: 比赛包括两轮：预赛和决赛。预赛成绩最好的8次接力队晋级决赛。必要时使用游泳比赛来打破平局以晋级下一轮。\n",
      "Traducción: The competition consists of two rounds: the preliminaries and the finals. The top 8 relay teams with the best results in the preliminaries will advance to the finals. If necessary, a swimming race will be used to break a tie and determine which team will advance to the next round.\n",
      "\n",
      "\n"
     ]
    }
   ],
   "source": [
    "# Escribe aquí el código para la tarea .\n",
    "def translate_news(news, target_languages, engine=chat_model, temperature=0.7):\n",
    "    translations = []\n",
    "    for item in news:\n",
    "        for lang in target_languages:\n",
    "            messages = [\n",
    "                {'role': 'system', 'content': f'Eres un traductor universal que traduce textos al {lang}. Conserva el significado original y mantén la gramática correcta.'},\n",
    "                {'role': 'user', 'content': f'Traduce este texto al {lang}:\\n\\n{item}'}\n",
    "            ]\n",
    "            response = openai.ChatCompletion.create(\n",
    "                engine=engine, \n",
    "                messages=messages,\n",
    "                temperature=temperature\n",
    "            )\n",
    "            translations.append({\n",
    "                \"original\": item,\n",
    "                \"language\": lang,\n",
    "                \"translation\": response.choices[0].message[\"content\"]\n",
    "            })\n",
    "    return translations\n",
    "\n",
    "target_languages = [\"coreano\", \"inglés\"]\n",
    "translations = translate_news(news, target_languages)\n",
    "for t in translations:\n",
    "    print(f\"********** Traducción al {t['language']} **********\")\n",
    "    print(f\"Original: {t['original']}\")\n",
    "    print(f\"Traducción: {t['translation']}\")\n",
    "    print(\"\\n\")"
   ]
  },
  {
   "cell_type": "markdown",
   "metadata": {
    "nteract": {
     "transient": {
      "deleting": false
     }
    }
   },
   "source": [
    "#### Tarea para Estudiantes:\n",
    "Transformación de Tono\n",
    "\n",
    "La escritura puede variar según la audiencia objetivo. ChatGPT puede producir diferentes tonos. Transforma el siguiente mensaje en una carta de negocios."
   ]
  },
  {
   "cell_type": "code",
   "execution_count": 45,
   "metadata": {
    "gather": {
     "logged": 1685082786641
    },
    "jupyter": {
     "outputs_hidden": false,
     "source_hidden": false
    },
    "nteract": {
     "transient": {
      "deleting": false
     }
    }
   },
   "outputs": [],
   "source": [
    "original_message = \"David, it's John! OMG, the Olympic game is so crazy\""
   ]
  },
  {
   "cell_type": "code",
   "execution_count": 46,
   "metadata": {
    "jupyter": {
     "outputs_hidden": false,
     "source_hidden": false
    },
    "nteract": {
     "transient": {
      "deleting": false
     }
    }
   },
   "outputs": [
    {
     "name": "stdout",
     "output_type": "stream",
     "text": [
      "********** Carta de Negocios **********\n",
      "Estimado David,\n",
      "\n",
      "Es un placer saludarte. Me dirijo a ti para compartirte mi entusiasmo por los Juegos Olímpicos. Como sabes, soy un gran aficionado a este evento deportivo y debo decir que la emoción que se vive en cada competencia es simplemente increíble.\n",
      "\n",
      "Espero que tú también estés disfrutando de los Juegos Olímpicos y que estés teniendo la oportunidad de ver algunas de las competencias más emocionantes.\n",
      "\n",
      "Aprovecho la ocasión para recordarte que tenemos pendiente nuestra reunión de negocios la próxima semana. Espero que podamos discutir los detalles de nuestro proyecto y avanzar en nuestra colaboración.\n",
      "\n",
      "Quedo a la espera de tu respuesta.\n",
      "\n",
      "Saludos cordiales,\n",
      "\n",
      "John\n"
     ]
    }
   ],
   "source": [
    "# Escribe aquí el código para la tarea .\n",
    "messages = [\n",
    "        {'role': 'system', 'content': 'Eres un asistente que transforma mensajes informales en cartas de negocios profesionales.'},\n",
    "        {'role': 'user', 'content': f\"\"\"\n",
    "            Transforma el siguiente mensaje en una carta de negocios profesional:\n",
    "            \n",
    "            Mensaje original:\n",
    "            \"{original_message}\"\n",
    "        \"\"\"}\n",
    "    ]\n",
    "\n",
    "response = get_completion_from_messages(messages)\n",
    "print(\"********** Carta de Negocios **********\")\n",
    "print(response)"
   ]
  },
  {
   "cell_type": "markdown",
   "metadata": {
    "nteract": {
     "transient": {
      "deleting": false
     }
    }
   },
   "source": [
    "#### Tarea para Estudiantes:\n",
    "Conversión de Formato\n",
    "\n",
    "ChatGPT puede traducir entre formatos. El prompt debe describir los formatos de entrada y salida. Convierte los siguientes datos JSON al formato HTML."
   ]
  },
  {
   "cell_type": "code",
   "execution_count": 50,
   "metadata": {
    "gather": {
     "logged": 1685083768996
    },
    "jupyter": {
     "outputs_hidden": false,
     "source_hidden": false
    },
    "nteract": {
     "transient": {
      "deleting": false
     }
    }
   },
   "outputs": [],
   "source": [
    "data_json = { \"The 2020 Summer Olympics Opening Ceremony audience name list\" :[ \n",
    "    {\"name\":\"Shyam\", \"email\":\"shyamjaiswal@gmail.com\"},\n",
    "    {\"name\":\"Bob\", \"email\":\"bob32@gmail.com\"},\n",
    "    {\"name\":\"Jai\", \"email\":\"jai87@gmail.com\"}\n",
    "]}"
   ]
  },
  {
   "cell_type": "code",
   "execution_count": 51,
   "metadata": {
    "jupyter": {
     "outputs_hidden": false,
     "source_hidden": false
    },
    "nteract": {
     "transient": {
      "deleting": false
     }
    }
   },
   "outputs": [
    {
     "name": "stdout",
     "output_type": "stream",
     "text": [
      "********** HTML Output **********\n",
      "Aquí está el formato HTML bien estructurado para los datos JSON proporcionados:\n",
      "\n",
      "```html\n",
      "<div>\n",
      "  <h2>The 2020 Summer Olympics Opening Ceremony audience name list</h2>\n",
      "  <ul>\n",
      "    <li>\n",
      "      <strong>Name:</strong> Shyam<br>\n",
      "      <strong>Email:</strong> shyamjaiswal@gmail.com\n",
      "    </li>\n",
      "    <li>\n",
      "      <strong>Name:</strong> Bob<br>\n",
      "      <strong>Email:</strong> bob32@gmail.com\n",
      "    </li>\n",
      "    <li>\n",
      "      <strong>Name:</strong> Jai<br>\n",
      "      <strong>Email:</strong> jai87@gmail.com\n",
      "    </li>\n",
      "  </ul>\n",
      "</div>\n",
      "```\n",
      "\n",
      "Este HTML utiliza una lista desordenada (`<ul>`) para mostrar cada nombre y correo electrónico en un elemento de lista (`<li>`). Cada elemento de lista tiene dos etiquetas de encabezado (`<strong>`) para indicar el nombre y el correo electrónico. El título principal se muestra en un encabezado de nivel 2 (`<h2>`).\n"
     ]
    }
   ],
   "source": [
    "# Escribe aquí el código para la tarea .\n",
    "\n",
    "messages = [\n",
    "        {'role': 'system', 'content': 'Eres un asistente que traduce datos JSON a formato HTML bien estructurado.'},\n",
    "        {'role': 'user', 'content': f\"\"\"\n",
    "            Convierte los siguientes datos JSON al formato HTML. Asegúrate de que el HTML sea claro y esté correctamente estructurado.\n",
    "\n",
    "            Datos JSON:\n",
    "            {data_json}\n",
    "        \"\"\"}\n",
    "\n",
    "]\n",
    "\n",
    "html_output = get_completion_from_messages(messages)\n",
    "print(\"********** HTML Output **********\")\n",
    "print(html_output)"
   ]
  },
  {
   "cell_type": "markdown",
   "metadata": {
    "nteract": {
     "transient": {
      "deleting": false
     }
    }
   },
   "source": [
    "#### Tarea para Estudiantes:\n",
    "Revisión ortográfica y gramatical del siguiente texto.\n",
    "\n",
    "Para indicarle al modelo LLM que deseas que revise tu texto, instruye al modelo para que 'revise' o 'revise y corrija'."
   ]
  },
  {
   "cell_type": "code",
   "execution_count": null,
   "metadata": {
    "gather": {
     "logged": 1685084954682
    },
    "jupyter": {
     "outputs_hidden": false,
     "source_hidden": false
    },
    "nteract": {
     "transient": {
      "deleting": false
     }
    }
   },
   "outputs": [],
   "source": [
    "check_text = [ \n",
    "  \"Alongside the main Emblem blue, the five other colors use in the branding of the 2020 Games is : Kurenai red,   Ai blue,   Sakula pink,   Fuji purple, and   Matsuba green.\",\n",
    "  \"The competition have three round: heats, semifinals, and a final.\"\n",
    "]"
   ]
  },
  {
   "cell_type": "code",
   "execution_count": null,
   "metadata": {
    "jupyter": {
     "outputs_hidden": false,
     "source_hidden": false
    },
    "nteract": {
     "transient": {
      "deleting": false
     }
    }
   },
   "outputs": [],
   "source": [
    "# Escribe aquí el código para la tarea ."
   ]
  },
  {
   "cell_type": "markdown",
   "metadata": {
    "nteract": {
     "transient": {
      "deleting": false
     }
    }
   },
   "source": [
    "#### Táctica 5: Ampliación: personaliza la respuesta automática"
   ]
  },
  {
   "cell_type": "markdown",
   "metadata": {
    "nteract": {
     "transient": {
      "deleting": false
     }
    }
   },
   "source": [
    "#### Tarea para Estudiantes:\n",
    "Personaliza la respuesta automática al siguiente correo electrónico de un cliente.\n",
    "\n",
    "El cliente tuvo un problema al comprar un boleto para los Juegos Olímpicos."
   ]
  },
  {
   "cell_type": "code",
   "execution_count": null,
   "metadata": {
    "gather": {
     "logged": 1685463156048
    },
    "jupyter": {
     "outputs_hidden": false,
     "source_hidden": false
    },
    "nteract": {
     "transient": {
      "deleting": false
     }
    }
   },
   "outputs": [],
   "source": [
    "# given the sentiment from the tactic on \"inferring\",\n",
    "# and the original customer message, customize the email\n",
    "sentiment = \"negative\"\n",
    "\n",
    "# review for a ticket transaction\n",
    "review = f\"\"\"\n",
    "I bought the ticket of \"Men's 100 metre freestyle swimming\" game last week.\\\n",
    "The transaction went through successfully. However, I still have not received the ticket.\\\n",
    "Over one week has passed.\\\n",
    "\"\"\""
   ]
  },
  {
   "cell_type": "code",
   "execution_count": null,
   "metadata": {
    "jupyter": {
     "outputs_hidden": false,
     "source_hidden": false
    },
    "nteract": {
     "transient": {
      "deleting": false
     }
    }
   },
   "outputs": [],
   "source": [
    "# Escribe aquí el código para la tarea ."
   ]
  },
  {
   "cell_type": "markdown",
   "metadata": {
    "nteract": {
     "transient": {
      "deleting": false
     }
    }
   },
   "source": [
    "#### Táctica 6: Chatbot: personalizar conversaciones para tareas o comportamientos específicos"
   ]
  },
  {
   "cell_type": "markdown",
   "metadata": {
    "nteract": {
     "transient": {
      "deleting": false
     }
    }
   },
   "source": [
    "#### Tarea para Estudiantes:\n",
    "Crear una conversación con el chatbot para saber dónde se celebraron los Juegos Olímpicos de Verano de 2020."
   ]
  },
  {
   "cell_type": "code",
   "execution_count": null,
   "metadata": {
    "jupyter": {
     "outputs_hidden": false,
     "source_hidden": false
    },
    "nteract": {
     "transient": {
      "deleting": false
     }
    }
   },
   "outputs": [],
   "source": [
    "# Escribe aquí el código para la tarea ."
   ]
  },
  {
   "cell_type": "markdown",
   "metadata": {
    "nteract": {
     "transient": {
      "deleting": false
     }
    }
   },
   "source": [
    "### 2.2 Dale tiempo al modelo para \"pensar\""
   ]
  },
  {
   "cell_type": "markdown",
   "metadata": {
    "nteract": {
     "transient": {
      "deleting": false
     }
    }
   },
   "source": [
    "#### Táctica 1: Especificar los pasos necesarios para completar una tarea\n",
    "A veces puedes ayudar al modelo a \"ralentizarse\" y ofrecer respuestas más robustas y detalladas especificando los pasos que debe seguir.\n",
    "\n",
    "Pidamos la salida en varios formatos especificados."
   ]
  },
  {
   "cell_type": "code",
   "execution_count": 52,
   "metadata": {
    "gather": {
     "logged": 1685051679218
    },
    "jupyter": {
     "outputs_hidden": false,
     "source_hidden": false
    },
    "nteract": {
     "transient": {
      "deleting": false
     }
    }
   },
   "outputs": [
    {
     "data": {
      "text/plain": [
       "'Title: Tokyo 2020 Olympics: A Historic Event Amidst a Pandemic\\n\\nKeywords: Olympics, Tokyo 2020, COVID-19, new events, medal count\\n\\n<div>Article Publishing Information</div>\\n\\n<table>\\n  <tr>\\n    <td>Host City and Postponement</td>\\n    <td>Tokyo 2020, COVID-19</td>\\n  </tr>\\n  <tr>\\n    <td>Attendance and Cost</td>\\n    <td>Tokyo 2020, pandemic, $20 billion</td>\\n  </tr>\\n  <tr>\\n    <td>Previous Olympic Games in Japan</td>\\n    <td>Tokyo 1964, Sapporo 1972, Nagano 1998</td>\\n  </tr>\\n  <tr>\\n    <td>New Events and IOC Policies</td>\\n    <td>3x3 basketball, freestyle BMX, mixed gender team events, new sports'"
      ]
     },
     "execution_count": 52,
     "metadata": {},
     "output_type": "execute_result"
    }
   ],
   "source": [
    "prompt = f\"\"\"\n",
    "Your task is to help a journalist summarize information from the article for publication.\n",
    "\n",
    "Write a title based on the information provided in the context delimited by triple backticks. \n",
    "The title should be short, catchy, and reflective of the article's narrative.\n",
    "\n",
    "After the title, generate five keywords from the context.\n",
    "\n",
    "After the keywords, include a table to organize the information. \n",
    "The table should have two columns. In the first column is the title.\n",
    "In the second column include the keywords as a list.\n",
    "\n",
    "Give the table the title 'Article Publishing Information'.\n",
    "\n",
    "Format everything as HTML that can be used in a website.\n",
    "Place the title in a <div> element.\n",
    "\n",
    "Context: ```{text}\n",
    "\n",
    "\"\"\" \n",
    "\n",
    "get_chat_completion(prompt)"
   ]
  },
  {
   "cell_type": "markdown",
   "metadata": {},
   "source": []
  },
  {
   "cell_type": "markdown",
   "metadata": {
    "nteract": {
     "transient": {
      "deleting": false
     }
    }
   },
   "source": [
    "#### Táctica 2: Instruir al modelo para que desarrolle su propia solución\n",
    "\n",
    "Existen dos métodos principales que demostraremos en esta sección para lograr que el modelo resuelva un problema en lugar de apresurarse a una conclusión: cadena de pensamiento (chain-of-thought) y encadenamiento (chaining). Estas estrategias pueden llevar a una mayor precisión, detalle y la capacidad de resolver desafíos complejos.\n",
    "\n",
    "\n",
    "2.1 - Prompting de cadena de pensamiento (Chain-of-thought)\n",
    "- Pedir al modelo que razone\n",
    "- Ejemplo de un solo disparo (one-shot)\n",
    "- Razonamiento del chatbot\n",
    "\n",
    "2.2 - Encadenamiento (Chaining)\n",
    "\n",
    "Continuemos trabajando con el conjunto de datos de los Juegos Olímpicos."
   ]
  },
  {
   "cell_type": "markdown",
   "metadata": {
    "nteract": {
     "transient": {
      "deleting": false
     }
    }
   },
   "source": [
    "#### 2.2.1 Prompting de Cadena de Pensamiento (Chain-of-Thought Prompting)\n",
    "\n",
    "Hagamos un poco de matemáticas. Los modelos de GPT ocasionalmente no resuelven muy bien problemas matemáticos directos, así que guiemos al modelo a través del problema.\n",
    "\n",
    "Descomponemos las tareas en piezas más pequeñas.\n",
    "\n",
    "Lee más sobre los métodos y la investigación en el documento técnico: https://github.com/openai/openai-cookbook/blob/main/techniques_to_improve_reliability.md"
   ]
  },
  {
   "cell_type": "markdown",
   "metadata": {
    "nteract": {
     "transient": {
      "deleting": false
     }
    }
   },
   "source": [
    "#### Táctica 1: Puedes comenzar pidiéndole específicamente al modelo que piense paso a paso."
   ]
  },
  {
   "cell_type": "code",
   "execution_count": 53,
   "metadata": {
    "gather": {
     "logged": 1685051978623
    },
    "jupyter": {
     "outputs_hidden": false,
     "source_hidden": false
    },
    "nteract": {
     "transient": {
      "deleting": false
     }
    }
   },
   "outputs": [
    {
     "data": {
      "text/plain": [
       "'Step 1: Identify the Olympic games held at Sydney\\nThe Olympic games held at Sydney were the 2000 Summer Olympics.\\n\\nStep 2: Identify the most decorated individual athlete\\nTo identify the most decorated individual athlete, we need to look at the medal count of all athletes who participated in the 2000 Summer Olympics. According to the official website of the International Olympic Committee (IOC), the medal count for the 2000 Summer Olympics can be found here: https://www.olympic.org/sydney-2000/medal-count.\\n\\nStep 3: Determine the athlete with the maximum medals\\nAfter reviewing the medal count, the athlete with the most medals at the 2000 Summer Olympics was Michael Phelps, who won 6 gold medals and 2 bronze medals in swimming events.\\n\\nTherefore, the ANSWER is: Michael Phelps.'"
      ]
     },
     "execution_count": 53,
     "metadata": {},
     "output_type": "execute_result"
    }
   ],
   "source": [
    "text = f\"\"\"\n",
    "    The 2020 Summer Olympics, officially the Games of the XXXII Olympiad and also known as Tokyo 2020, was an international multi-sport event held from 23 July to 8 August 2021 in Tokyo, Japan, with some preliminary events that began on 21 July 2021. Tokyo was selected as the host city during the 125th IOC Session in Buenos Aires, Argentina, on 7 September 2013.Originally scheduled to take place from 24 July to 9 August 2020, the event was postponed to 2021 on 24 March 2020 due to the global COVID-19 pandemic, the first such instance in the history of the Olympic Games (previous games had been cancelled but not rescheduled). However, the event retained the Tokyo 2020 branding for marketing purposes. It was largely held behind closed doors with no public spectators permitted due to the declaration of a state of emergency in the Greater Tokyo Area in response to the pandemic, the first and only Olympic Games to be held without official spectators. The Games were the most expensive ever, with total spending of over $20 billion.The Games were the fourth Olympic Games to be held in Japan, following the 1964 Summer Olympics (Tokyo), 1972 Winter Olympics (Sapporo), and 1998 Winter Olympics (Nagano). Tokyo became the first city in Asia to hold the Summer Olympic Games twice. The 2020 Games were the second of three consecutive Olympics to be held in East Asia, following the 2018 Winter Olympics in Pyeongchang, South Korea and preceding the 2022 Winter Olympics in Beijing, China. Due to the one-year postponement, Tokyo 2020 was the first and only Olympic Games to have been held in an odd-numbered year and the first Summer Olympics since 1900 to be held in a non-leap year.\\nNew events were introduced in existing sports, including 3x3 basketball, freestyle BMX and mixed gender team events in a number of existing sports, as well as the return of madison cycling for men and an introduction of the same event for women. New IOC policies also allowed the host organizing committee to add new sports to the Olympic program for just one Games. The disciplines added by the Japanese Olympic Committee were baseball and softball, karate, sport climbing, surfing and skateboarding, the last four of which made their Olympic debuts, and the last three of which will remain on the Olympic program.The United States topped the medal count by both total golds (39) and total medals (113), with China finishing second by both respects (38 and 89). Host nation Japan finished third, setting a record for the most gold medals and total medals ever won by their delegation at an Olympic Games with 27 and 58. Great Britain finished fourth, with a total of 22 gold and 64 medals. The Russian delegation competing as the ROC finished fifth with 20 gold medals and third in the overall medal count, with 71 medals. Bermuda, the Philippines and Qatar won their first-ever Olympic gold medals. Burkina Faso, San Marino and Turkmenistan also won their first-ever Olympic medals.'\n",
    "\"\"\"\n",
    "\n",
    "# From Azure documentation\n",
    "prompt = \"Who was the most decorated (maximum medals) individual athlete in the Olympic games that were held at Sydney? Take a step-by-step approach in your response, cite sources and give reasoning before sharing final answer in the below format: ANSWER is: <name>\"\n",
    "get_chat_completion(prompt)"
   ]
  },
  {
   "cell_type": "code",
   "execution_count": 54,
   "metadata": {
    "jupyter": {
     "outputs_hidden": false,
     "source_hidden": false
    },
    "nteract": {
     "transient": {
      "deleting": false
     }
    }
   },
   "outputs": [
    {
     "data": {
      "text/plain": [
       "\"To solve this problem, we need to identify the top two countries who won the most gold medals in the 2020 Tokyo Olympics. According to the context, the United States topped the medal count by both total golds (39) and total medals (113), with China finishing second by both respects (38 and 89). Therefore, the top two countries are the United States and China.\\n\\nNext, we need to determine the time zone difference between the United States and China. The United States has six time zones, while China has only one time zone, which is eight hours ahead of Coordinated Universal Time (UTC+8). Therefore, the largest time zone difference between the United States and China is 16 hours, which is between the Eastern Time Zone in the United States (UTC-4) and China's time zone (UTC+8).\\n\\nTherefore, the largest time zone difference between the top two countries who won the most gold medals in the 2020 Tokyo Olympics is 16 hours\""
      ]
     },
     "execution_count": 54,
     "metadata": {},
     "output_type": "execute_result"
    }
   ],
   "source": [
    "# Another example\n",
    "prompt = f\"\"\"\n",
    "What is the largest time zone difference is between the top two countries who \n",
    "won the most gold medals in the 2020 Tokyo olympics?\n",
    "\n",
    "Use the context below and think aloud as you solve the problem, step-by-step.\n",
    "\n",
    "Context: {text}\n",
    "\"\"\"\n",
    "get_chat_completion(prompt)"
   ]
  },
  {
   "cell_type": "markdown",
   "metadata": {
    "nteract": {
     "transient": {
      "deleting": false
     }
    }
   },
   "source": [
    "#### Táctica 2: Ejemplo de un solo disparo (One-shot)\n",
    "Otra táctica común es proporcionar un ejemplo de una consulta y una respuesta ideal. El modelo aprenderá de ese ejemplo y aplicará los patrones a una nueva pregunta."
   ]
  },
  {
   "cell_type": "code",
   "execution_count": 55,
   "metadata": {
    "gather": {
     "logged": 1685053144682
    },
    "jupyter": {
     "outputs_hidden": false,
     "source_hidden": false
    },
    "nteract": {
     "transient": {
      "deleting": false
     }
    }
   },
   "outputs": [
    {
     "data": {
      "text/plain": [
       "'The United States has 74 medals that are not gold medals (113 total medals - 39 gold medals). \\n\\nGreat Britain has 42 medals that are not gold medals (64 total medals - 22 gold medals). \\n\\nTherefore, the United States has 32 more non-gold medals than Great Britain (74 - 42 = 32).'"
      ]
     },
     "execution_count": 55,
     "metadata": {},
     "output_type": "execute_result"
    }
   ],
   "source": [
    "# Notice how this response may not be ideal, or the most accurate.\n",
    "prompt = f\"\"\"\n",
    "    The United States has 113 total medals, 39 of which are gold medals. \n",
    "    \n",
    "    Great Britain has 64 medals and 22 gold medals. \n",
    "    \n",
    "    How many more silver and bronze medals does the United States have over Great Britain?\n",
    "\"\"\"\n",
    "\n",
    "get_chat_completion(prompt)"
   ]
  },
  {
   "cell_type": "code",
   "execution_count": 56,
   "metadata": {
    "jupyter": {
     "outputs_hidden": false,
     "source_hidden": false
    },
    "nteract": {
     "transient": {
      "deleting": false
     }
    }
   },
   "outputs": [
    {
     "data": {
      "text/plain": [
       "'[Step 1] - There are three types of medals: gold, silver, and bronze\\n[Step 2] - We know the gold and total counts of medals, so the number of silver and bronze medals is the difference between the gold (38) and total (89) counts. \\n            89-38=51, so there are 51 silver and bronze medals combined. The answer is 51.'"
      ]
     },
     "execution_count": 56,
     "metadata": {},
     "output_type": "execute_result"
    }
   ],
   "source": [
    "# Give the model a one-shot example to solve the question more thoroughly\n",
    "\n",
    "prompt = f\"\"\"\n",
    "Question: The United States has 113 total medals, 39 of which are gold medals. How many medals are silver or bronze?\n",
    "Answer:\n",
    "[Step 1] - There are three types of medals: gold, silver, and bronze\n",
    "[Step 2] - We know the gold and total counts of medals, so the number of silver and bronze medals is the difference between the gold (39) and total (113) counts. \n",
    "            113-39=74, so there are 74 silver and bronze medals combined. The answer is 74.\n",
    "\n",
    "===\n",
    "\n",
    "Answer the following question using similar steps above.\n",
    "\n",
    "Question: China has 89 total medals, 38 of which are gold medals. How many silver and bronze medals do they have?\n",
    "Answer:\n",
    "\"\"\"\n",
    "\n",
    "get_chat_completion(prompt)"
   ]
  },
  {
   "cell_type": "markdown",
   "metadata": {
    "nteract": {
     "transient": {
      "deleting": false
     }
    }
   },
   "source": [
    "#### Táctica 3: Razonamiento de cadena de pensamiento del chatbot (chain-of-thought reasoning)\n",
    "Puedes incorporar lógica utilizando variables para que el chatbot pueda demostrar de manera dinámica formas específicas de pensar sobre un problema.\n",
    "\n",
    "**Para ingresar la información, aparecerá un cuadro de texto en la parte superior de la pantalla. Deberías ver una ventana emergente. Escribe 'quit' si quieres salir.**"
   ]
  },
  {
   "cell_type": "code",
   "execution_count": 57,
   "metadata": {
    "jupyter": {
     "outputs_hidden": false,
     "source_hidden": false
    },
    "nteract": {
     "transient": {
      "deleting": false
     }
    }
   },
   "outputs": [
    {
     "name": "stdout",
     "output_type": "stream",
     "text": [
      "1\n",
      "\n",
      "Hello! I am a decision bot. What is the problem, scenario, or question you need help with?\n",
      "\n",
      "\n",
      "¡Hola! Soy un bot de decisión. Entiendo que necesitas ayuda en español. Sin embargo, la pregunta que me haces no es un problema o escenario que pueda resolver. La razón por la que el cielo es azul es debido a la dispersión de la luz solar en la atmósfera terrestre. Si tienes alguna otra pregunta o problema en el que pueda ayudarte, por favor házmelo saber.\n",
      "\n",
      "4\n",
      "\n",
      "Lo siento, no puedo ayudarte si no me proporcionas un problema o pregunta específica. ¿Hay algo más en lo que pueda ayudarte?\n",
      "\n",
      "6\n",
      "\n",
      "¡Claro! Estoy aquí para ayudarte a tomar una decisión. Por favor, dime más sobre tu situación. ¿Cuál es la decisión que necesitas tomar? ¿Estás tratando de decidir si aceptar un trabajo o elegir entre restaurantes para cenar?\n",
      "\n",
      "8\n",
      "\n",
      "Entiendo. Entonces, si entendí correctamente, necesitas decidir entre dos restaurantes: el Restaurante A que tiene 20 platos variados y el Restaurante B que tiene 40 platos variados. El Restaurante B es aproximadamente un 10% más barato que el Restaurante A. Tu jefe te ha dicho que la relación entre la cantidad de platos debe ser la tolerancia máxima para la diferencia de precios. ¿Es correcto? \n",
      "\n",
      "Antes de continuar, ¿podrías aclarar qué quieres decir con \"tolerancia máxima para la diferencia de precios\"? ¿Estás diciendo que hay un límite en la cantidad de dinero que estás dispuesto a gastar en la diferencia de precios entre los dos restaurantes?\n",
      "\n",
      "10\n",
      "\n",
      "Entiendo. Entonces, si hay una diferencia en la cantidad de platos ofrecidos por cada restaurante, pero el costo del Restaurante B es más barato que el Restaurante A, tu jefe te ha dicho que la relación entre la cantidad de platos debe ser la tolerancia máxima para la diferencia de precios. Por ejemplo, si el Restaurante B tiene dos platos más que el Restaurante A, entonces es tolerable que el Restaurante B sea menos del 100% más caro que el Restaurante A para que puedas elegir el Restaurante B. ¿Es correcto?\n",
      "\n",
      "En ese caso, necesitamos saber cuál es la relación entre la cantidad de platos ofrecidos por cada restaurante. ¿Podrías proporcionar más información sobre la relación entre la cantidad de platos ofrecidos por cada restaurante?\n",
      "\n",
      "12\n",
      "\n",
      "Entiendo. Entonces, si el Restaurante A tiene 25 platillos y el Restaurante B tiene 45 platillos, la relación entre la cantidad de platillos ofrecidos por cada restaurante es de 5:9 (25/5 = 5 y 45/5 = 9). \n",
      "\n",
      "Si tu jefe te ha dicho que la relación entre la cantidad de platillos debe ser la tolerancia máxima para la diferencia de precios, entonces podemos calcular la tolerancia máxima para la diferencia de precios de la siguiente manera:\n",
      "\n",
      "- Si el Restaurante B tiene un platillo más que el Restaurante A, entonces la tolerancia máxima para la diferencia de precios es del 20% (100% / 5 = 20%).\n",
      "- Si el Restaurante B tiene dos platillos más que el Restaurante A, entonces la tolerancia máxima para la diferencia de precios es del 40% (100% / 2.5 = 40%).\n",
      "\n",
      "Por lo tanto, si el Restaurante B tiene dos platillos más que el Restaurante A, entonces es tolerable que el Restaurante B sea hasta un 40% más caro que el Restaurante A para que puedas elegir el Restaurante B. Si la diferencia de precios es mayor al 40%, entonces deberías elegir el Restaurante A.\n",
      "\n",
      "14\n",
      "\n",
      "Espero que mi respuesta te haya sido útil. Si tienes alguna otra pregunta o necesitas ayuda con otra decisión, no dudes en preguntar. ¡Estoy aquí para ayudarte!\n",
      "\n",
      "16\n",
      "\n",
      "¡Gracias por usar mis servicios! Si necesitas ayuda en el futuro, no dudes en preguntar. ¡Que tengas un buen día!\n",
      "\n",
      "18\n",
      "\n",
      "¡Hasta luego!\n",
      "\n",
      "20\n",
      "\n",
      "¡Adiós!\n",
      "\n",
      "22\n",
      "\n",
      "¿Necesitas ayuda en algo más? Estoy aquí para ayudarte en lo que necesites.\n",
      "\n",
      "24\n"
     ]
    },
    {
     "ename": "KeyboardInterrupt",
     "evalue": "Interrupted by user",
     "output_type": "error",
     "traceback": [
      "\u001b[0;31m---------------------------------------------------------------------------\u001b[0m",
      "\u001b[0;31mKeyboardInterrupt\u001b[0m                         Traceback (most recent call last)",
      "Cell \u001b[0;32mIn[57], line 36\u001b[0m\n\u001b[1;32m     33\u001b[0m     conversation\u001b[38;5;241m.\u001b[39mappend({\u001b[38;5;124m\"\u001b[39m\u001b[38;5;124mrole\u001b[39m\u001b[38;5;124m\"\u001b[39m: \u001b[38;5;124m\"\u001b[39m\u001b[38;5;124massistant\u001b[39m\u001b[38;5;124m\"\u001b[39m, \u001b[38;5;124m\"\u001b[39m\u001b[38;5;124mcontent\u001b[39m\u001b[38;5;124m\"\u001b[39m: response})\n\u001b[1;32m     34\u001b[0m     \u001b[38;5;28mprint\u001b[39m(\u001b[38;5;124m\"\u001b[39m\u001b[38;5;130;01m\\n\u001b[39;00m\u001b[38;5;124m\"\u001b[39m \u001b[38;5;241m+\u001b[39m response \u001b[38;5;241m+\u001b[39m \u001b[38;5;124m\"\u001b[39m\u001b[38;5;130;01m\\n\u001b[39;00m\u001b[38;5;124m\"\u001b[39m)\n\u001b[0;32m---> 36\u001b[0m user_input \u001b[38;5;241m=\u001b[39m \u001b[38;5;28;43minput\u001b[39;49m\u001b[43m(\u001b[49m\u001b[38;5;124;43m'\u001b[39;49m\u001b[38;5;124;43mEnter your response: \u001b[39;49m\u001b[38;5;124;43m'\u001b[39;49m\u001b[43m)\u001b[49m\n\u001b[1;32m     37\u001b[0m \u001b[38;5;28;01mif\u001b[39;00m user_input\u001b[38;5;241m.\u001b[39mlower() \u001b[38;5;241m==\u001b[39m \u001b[38;5;124m\"\u001b[39m\u001b[38;5;124mquit\u001b[39m\u001b[38;5;124m\"\u001b[39m:\n\u001b[1;32m     38\u001b[0m     \u001b[38;5;28;01mbreak\u001b[39;00m \n",
      "File \u001b[0;32m~/.local/lib/python3.12/site-packages/ipykernel/kernelbase.py:1282\u001b[0m, in \u001b[0;36mKernel.raw_input\u001b[0;34m(self, prompt)\u001b[0m\n\u001b[1;32m   1280\u001b[0m     msg \u001b[38;5;241m=\u001b[39m \u001b[38;5;124m\"\u001b[39m\u001b[38;5;124mraw_input was called, but this frontend does not support input requests.\u001b[39m\u001b[38;5;124m\"\u001b[39m\n\u001b[1;32m   1281\u001b[0m     \u001b[38;5;28;01mraise\u001b[39;00m StdinNotImplementedError(msg)\n\u001b[0;32m-> 1282\u001b[0m \u001b[38;5;28;01mreturn\u001b[39;00m \u001b[38;5;28;43mself\u001b[39;49m\u001b[38;5;241;43m.\u001b[39;49m\u001b[43m_input_request\u001b[49m\u001b[43m(\u001b[49m\n\u001b[1;32m   1283\u001b[0m \u001b[43m    \u001b[49m\u001b[38;5;28;43mstr\u001b[39;49m\u001b[43m(\u001b[49m\u001b[43mprompt\u001b[49m\u001b[43m)\u001b[49m\u001b[43m,\u001b[49m\n\u001b[1;32m   1284\u001b[0m \u001b[43m    \u001b[49m\u001b[38;5;28;43mself\u001b[39;49m\u001b[38;5;241;43m.\u001b[39;49m\u001b[43m_parent_ident\u001b[49m\u001b[43m[\u001b[49m\u001b[38;5;124;43m\"\u001b[39;49m\u001b[38;5;124;43mshell\u001b[39;49m\u001b[38;5;124;43m\"\u001b[39;49m\u001b[43m]\u001b[49m\u001b[43m,\u001b[49m\n\u001b[1;32m   1285\u001b[0m \u001b[43m    \u001b[49m\u001b[38;5;28;43mself\u001b[39;49m\u001b[38;5;241;43m.\u001b[39;49m\u001b[43mget_parent\u001b[49m\u001b[43m(\u001b[49m\u001b[38;5;124;43m\"\u001b[39;49m\u001b[38;5;124;43mshell\u001b[39;49m\u001b[38;5;124;43m\"\u001b[39;49m\u001b[43m)\u001b[49m\u001b[43m,\u001b[49m\n\u001b[1;32m   1286\u001b[0m \u001b[43m    \u001b[49m\u001b[43mpassword\u001b[49m\u001b[38;5;241;43m=\u001b[39;49m\u001b[38;5;28;43;01mFalse\u001b[39;49;00m\u001b[43m,\u001b[49m\n\u001b[1;32m   1287\u001b[0m \u001b[43m\u001b[49m\u001b[43m)\u001b[49m\n",
      "File \u001b[0;32m~/.local/lib/python3.12/site-packages/ipykernel/kernelbase.py:1325\u001b[0m, in \u001b[0;36mKernel._input_request\u001b[0;34m(self, prompt, ident, parent, password)\u001b[0m\n\u001b[1;32m   1322\u001b[0m \u001b[38;5;28;01mexcept\u001b[39;00m \u001b[38;5;167;01mKeyboardInterrupt\u001b[39;00m:\n\u001b[1;32m   1323\u001b[0m     \u001b[38;5;66;03m# re-raise KeyboardInterrupt, to truncate traceback\u001b[39;00m\n\u001b[1;32m   1324\u001b[0m     msg \u001b[38;5;241m=\u001b[39m \u001b[38;5;124m\"\u001b[39m\u001b[38;5;124mInterrupted by user\u001b[39m\u001b[38;5;124m\"\u001b[39m\n\u001b[0;32m-> 1325\u001b[0m     \u001b[38;5;28;01mraise\u001b[39;00m \u001b[38;5;167;01mKeyboardInterrupt\u001b[39;00m(msg) \u001b[38;5;28;01mfrom\u001b[39;00m \u001b[38;5;28;01mNone\u001b[39;00m\n\u001b[1;32m   1326\u001b[0m \u001b[38;5;28;01mexcept\u001b[39;00m \u001b[38;5;167;01mException\u001b[39;00m:\n\u001b[1;32m   1327\u001b[0m     \u001b[38;5;28mself\u001b[39m\u001b[38;5;241m.\u001b[39mlog\u001b[38;5;241m.\u001b[39mwarning(\u001b[38;5;124m\"\u001b[39m\u001b[38;5;124mInvalid Message:\u001b[39m\u001b[38;5;124m\"\u001b[39m, exc_info\u001b[38;5;241m=\u001b[39m\u001b[38;5;28;01mTrue\u001b[39;00m)\n",
      "\u001b[0;31mKeyboardInterrupt\u001b[0m: Interrupted by user"
     ]
    }
   ],
   "source": [
    "# Ask the bot to help you make a decision such as deciding whether to take a job or choose between restaurants.\n",
    "# If the model does not immediately respond to your query, wait 1-5 seconds and retype it.\n",
    "# If it is not allowing you to give an input, restart the kernel in the navigation bar.\n",
    "# Type \"quit\" to end the session\n",
    "\n",
    "context = '''\n",
    "        You are a decision bot. Your job is to help come to decision by asking a series of questions one at a time and coming to a reasonable decision based on the information provided.\n",
    "\n",
    "        You will use the following format to help create the series of questions.\n",
    "\n",
    "        Template: \n",
    "        [Problem/Scenario/Question]: [Provide a brief description of the problem, scenario, or question.]\n",
    "\n",
    "        Chain of thought:\n",
    "\n",
    "        [Step 1]: Identify the [key element/variable] in the [problem/scenario/question].\n",
    "        [Step 2]: Understand the [relationship/connection] between [element A] and [element B].\n",
    "        [Step 3]: [Analyze/Evaluate/Consider] the [context/implication] of the [relationship/connection] between [element A] and [element B].\n",
    "        [Step 4]: [Conclude/Decide/Determine] the [outcome/solution] based on the [analysis/evaluation/consideration] of [element A], [element B], and their [relationship/connection].\n",
    "        [Answer/Conclusion/Recommendation]: [Provide a coherent and logical response based on the chain of thought.]\n",
    "\n",
    "        You will guide the user though a series of questions one at a time. The first question is broad, and they subsequent questions become more specific. \n",
    "\n",
    "        Begin by introducing yourself and asking the first question (step 1) only and nothing else, in simple and easy way.\n",
    "        '''\n",
    "\n",
    "conversation=[{\"role\": \"system\", \"content\": context}]\n",
    "\n",
    "while(True):\n",
    "    print(len(conversation))\n",
    "    if len(conversation) == 1:\n",
    "        response = get_completion_from_messages(conversation)\n",
    "        conversation.append({\"role\": \"assistant\", \"content\": response})\n",
    "        print(\"\\n\" + response + \"\\n\")\n",
    "    \n",
    "    user_input = input('Enter your response: ')\n",
    "    if user_input.lower() == \"quit\":\n",
    "        break \n",
    "    conversation.append({\"role\": \"user\", \"content\": user_input})\n",
    "    \n",
    "    response = get_completion_from_messages(conversation)\n",
    "    conversation.append({\"role\": \"assistant\", \"content\": response})\n",
    "    print(\"\\n\" + response + \"\\n\")\n"
   ]
  },
  {
   "cell_type": "markdown",
   "metadata": {
    "nteract": {
     "transient": {
      "deleting": false
     }
    }
   },
   "source": [
    "#### 2.2.2 - Encadenamiento / Chaining\n",
    "Similar a algunos ejemplos anteriores, puedes usar las salidas del modelo de consultas anteriores en otras consultas. Más adelante en el Hack te mostraremos cómo hacer esto a escala."
   ]
  },
  {
   "cell_type": "code",
   "execution_count": 66,
   "metadata": {
    "gather": {
     "logged": 1685051679330
    },
    "jupyter": {
     "outputs_hidden": false,
     "source_hidden": false
    },
    "nteract": {
     "transient": {
      "deleting": false
     }
    }
   },
   "outputs": [
    {
     "name": "stdout",
     "output_type": "stream",
     "text": [
      "The 2020 Tokyo Olympics have come to an end, and the medal count has been tallied. The United States emerged as the clear winner, with a total of 113 medals, including 39 golds. China came in second with 89 medals, including 38 golds, while Japan took third place with 58 medals, including 27 golds.\n",
      "\n",
      "Great Britain and the Russian Olympic Committee (ROC) rounded out the top five, with 64 and 71 medals respectively. However, it's worth noting that the ROC's medal count was impacted by the fact that they were not allowed to compete under their own flag due to a doping scandal.\n",
      "\n",
      "While the top five countries dominated the medal count, there were also some surprising winners and losers. Bermuda, the Philippines, and Qatar all won their first-ever gold medals, while Burkina Faso failed to win any medals at all.\n",
      "\n",
      "Overall, the 2020 Olympics were a success for many countries, with athletes from around the\n",
      "world showcasing their talents and achieving their dreams. \"United States Dominates 2020 Olympics\"\n"
     ]
    }
   ],
   "source": [
    "# Extract medal counts for each country from the news article\n",
    "# Write an article about the summarized information\n",
    "# Provide a title for the summary\n",
    "\n",
    "text = f\"\"\"\n",
    "    The 2020 Summer Olympics, officially the Games of the XXXII Olympiad and also known as Tokyo 2020, was an international multi-sport event held from 23 July to 8 August 2021 in Tokyo, Japan, with some preliminary events that began on 21 July 2021. Tokyo was selected as the host city during the 125th IOC Session in Buenos Aires, Argentina, on 7 September 2013.Originally scheduled to take place from 24 July to 9 August 2020, the event was postponed to 2021 on 24 March 2020 due to the global COVID-19 pandemic, the first such instance in the history of the Olympic Games (previous games had been cancelled but not rescheduled). However, the event retained the Tokyo 2020 branding for marketing purposes. It was largely held behind closed doors with no public spectators permitted due to the declaration of a state of emergency in the Greater Tokyo Area in response to the pandemic, the first and only Olympic Games to be held without official spectators. The Games were the most expensive ever, with total spending of over $20 billion.The Games were the fourth Olympic Games to be held in Japan, following the 1964 Summer Olympics (Tokyo), 1972 Winter Olympics (Sapporo), and 1998 Winter Olympics (Nagano). Tokyo became the first city in Asia to hold the Summer Olympic Games twice. The 2020 Games were the second of three consecutive Olympics to be held in East Asia, following the 2018 Winter Olympics in Pyeongchang, South Korea and preceding the 2022 Winter Olympics in Beijing, China. Due to the one-year postponement, Tokyo 2020 was the first and only Olympic Games to have been held in an odd-numbered year and the first Summer Olympics since 1900 to be held in a non-leap year.\\nNew events were introduced in existing sports, including 3x3 basketball, freestyle BMX and mixed gender team events in a number of existing sports, as well as the return of madison cycling for men and an introduction of the same event for women. New IOC policies also allowed the host organizing committee to add new sports to the Olympic program for just one Games. The disciplines added by the Japanese Olympic Committee were baseball and softball, karate, sport climbing, surfing and skateboarding, the last four of which made their Olympic debuts, and the last three of which will remain on the Olympic program.The United States topped the medal count by both total golds (39) and total medals (113), with China finishing second by both respects (38 and 89). Host nation Japan finished third, setting a record for the most gold medals and total medals ever won by their delegation at an Olympic Games with 27 and 58. Great Britain finished fourth, with a total of 22 gold and 64 medals. The Russian delegation competing as the ROC finished fifth with 20 gold medals and third in the overall medal count, with 71 medals. Bermuda, the Philippines and Qatar won their first-ever Olympic gold medals. Burkina Faso, San Marino and Turkmenistan also won their first-ever Olympic medals.'\n",
    "\"\"\"\n",
    "\n",
    "prompt = f\"\"\"\n",
    "    Based on the context below, write a JSON object that contains the number of gold and total medals for each country.\n",
    "    Context: {text}\n",
    "\"\"\"\n",
    "num_medals_dict = get_chat_completion(prompt)\n",
    "\n",
    "prompt = f\"\"\"\n",
    "    Write a brief article about the winners and losers of the Olympics based on medal count:\n",
    "    {num_medals_dict}\n",
    "\"\"\"\n",
    "summary = get_chat_completion(prompt)\n",
    "print(summary)\n",
    "\n",
    "prompt = f\"\"\"\n",
    "    Give the summary a title in 5 words:\n",
    "    {summary}\n",
    "\"\"\"\n",
    "title = get_chat_completion(prompt)\n",
    "print(title)"
   ]
  },
  {
   "cell_type": "markdown",
   "metadata": {
    "nteract": {
     "transient": {
      "deleting": false
     }
    }
   },
   "source": [
    "#### Tarea para Estudiantes (Encadenamiento / Chaining):\n",
    "\n",
    "Tu tarea ahora es escribir código que determine el país que ganó la mayor cantidad de medallas de plata y bronce combinadas.\n",
    "\n",
    "Podemos ver que el modelo tiene un rendimiento deficiente al responder la pregunta directamente."
   ]
  },
  {
   "cell_type": "code",
   "execution_count": 59,
   "metadata": {
    "gather": {
     "logged": 1685053948700
    },
    "jupyter": {
     "outputs_hidden": false,
     "source_hidden": false
    },
    "nteract": {
     "transient": {
      "deleting": false
     }
    }
   },
   "outputs": [
    {
     "data": {
      "text/plain": [
       "'The context does not provide information on which country had the most silver and bronze medals.'"
      ]
     },
     "execution_count": 59,
     "metadata": {},
     "output_type": "execute_result"
    }
   ],
   "source": [
    "prompt = f\"\"\"\n",
    "    Based on the context, which country had the most silver and bronze medals?\n",
    "    Context: {text}\n",
    "\"\"\"\n",
    "\n",
    "get_chat_completion(prompt)"
   ]
  },
  {
   "cell_type": "markdown",
   "metadata": {
    "nteract": {
     "transient": {
      "deleting": false
     }
    }
   },
   "source": [
    "Escribe prompts en la celda a continuación que ayudarán al modelo a responder la pregunta desglosando las tareas en diferentes pasos. Asegúrate de que responda solo con la información que se le proporcionó. Este concepto de fundamentación se presentará con más detalle en el Reto 3.\n",
    "\n",
    "Deberías poder lograr que el modelo responda la pregunta en 2-3 pasos."
   ]
  },
  {
   "cell_type": "code",
   "execution_count": 67,
   "metadata": {
    "jupyter": {
     "outputs_hidden": false,
     "source_hidden": false
    },
    "nteract": {
     "transient": {
      "deleting": false
     }
    }
   },
   "outputs": [
    {
     "name": "stdout",
     "output_type": "stream",
     "text": [
      "********** JSON de Medallas **********\n",
      "{\n",
      "  \"United States\": {\n",
      "    \"gold\": 39,\n",
      "    \"silver\": 41,\n",
      "    \"bronze\": 33\n",
      "  },\n",
      "  \"China\": {\n",
      "    \"gold\": 38,\n",
      "    \"silver\": 32,\n",
      "    \"bronze\": 19\n",
      "  },\n",
      "  \"Japan\": {\n",
      "    \"gold\": 27,\n",
      "    \"silver\": 14,\n",
      "    \"bronze\": 17\n",
      "  },\n",
      "  \"Great Britain\": {\n",
      "    \"gold\": 22,\n",
      "    \"silver\": 21,\n",
      "    \"bronze\": 21\n",
      "  },\n",
      "  \"ROC\": {\n",
      "    \"gold\": 20,\n",
      "    \"silver\": 28,\n",
      "    \"bronze\": 23\n",
      "  },\n",
      "  \"Bermuda\": {\n",
      "    \"gold\": 1,\n",
      "    \"silver\": 0,\n",
      "    \"bronze\": 0\n",
      "  },\n",
      "  \"Philippines\": {\n",
      "    \"gold\": 1,\n",
      "    \"silver\": 2,\n",
      "   \n",
      "********** JSON de Plata y Bronce Combinadas **********\n",
      "{\n",
      "  \"United States\": 74,\n",
      "  \"China\": 51,\n",
      "  \"Japan\": 31,\n",
      "  \"Great Britain\": 42,\n",
      "  \"ROC\": 51,\n",
      "  \"Bermuda\": 0,\n",
      "  \"Philippines\": 4\n",
      "}\n",
      "********** País con más Plata y Bronce **********\n",
      "The country with the highest total of silver and bronze medals is the United States with a total of 74 medals.\n"
     ]
    }
   ],
   "source": [
    "# Paso 1: Extraer el conteo de medallas\n",
    "prompt_medals = f\"\"\"\n",
    "Extract the number of gold, silver, and bronze medals for each country from the context below in JSON format.\n",
    "Context: {text}\n",
    "\"\"\"\n",
    "medals_json = get_chat_completion(prompt_medals)\n",
    "print(\"********** JSON de Medallas **********\")\n",
    "print(medals_json)\n",
    "\n",
    "# Paso 2: Calcular medallas de plata y bronce combinadas\n",
    "prompt_calculate = f\"\"\"\n",
    "Given the following JSON data of medal counts:\n",
    "{medals_json}\n",
    "\n",
    "For each country, calculate the combined total of silver and bronze medals. Return the results as a JSON object with each country and its total.\n",
    "\"\"\"\n",
    "combined_medals_json = get_chat_completion(prompt_calculate)\n",
    "print(\"********** JSON de Plata y Bronce Combinadas **********\")\n",
    "print(combined_medals_json)\n",
    "\n",
    "# Paso 3: Determinar el país con la mayor cantidad de plata y bronce\n",
    "prompt_find_max = f\"\"\"\n",
    "From the following JSON data of combined silver and bronze medals:\n",
    "{combined_medals_json}\n",
    "\n",
    "Identify the country with the highest total of silver and bronze medals. Provide the country name and the total number of medals.\n",
    "\"\"\"\n",
    "result = get_chat_completion(prompt_find_max)\n",
    "print(\"********** País con más Plata y Bronce **********\")\n",
    "print(result)\n"
   ]
  },
  {
   "cell_type": "markdown",
   "metadata": {},
   "source": [
    "## Conclusión\n",
    "\n",
    "En este primer desafío, cubrimos cómo interactuar con Azure OpenAI para diferentes objetivos. Esperamos que hayas podido ver la versatilidad dinámica de los modelos y cómo pueden usarse para resolver una variedad de problemas utilizando diferentes técnicas.\n",
    "\n",
    "Le dimos a la API piezas cortas de texto usando variables fijas. En el próximo conjunto de desafíos, verás cómo usar la API con conjuntos de datos más grandes."
   ]
  }
 ],
 "metadata": {
  "kernel_info": {
   "name": "python38-azureml"
  },
  "kernelspec": {
   "display_name": "Python 3",
   "language": "python",
   "name": "python3"
  },
  "language_info": {
   "codemirror_mode": {
    "name": "ipython",
    "version": 3
   },
   "file_extension": ".py",
   "mimetype": "text/x-python",
   "name": "python",
   "nbconvert_exporter": "python",
   "pygments_lexer": "ipython3",
   "version": "3.12.1"
  },
  "microsoft": {
   "host": {
    "AzureML": {
     "notebookHasBeenCompleted": true
    }
   },
   "ms_spell_check": {
    "ms_spell_check_language": "en"
   }
  },
  "nteract": {
   "version": "nteract-front-end@1.0.0"
  }
 },
 "nbformat": 4,
 "nbformat_minor": 2
}
